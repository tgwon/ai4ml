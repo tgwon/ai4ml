{
  "cells": [
    {
      "cell_type": "markdown",
      "metadata": {
        "id": "view-in-github",
        "colab_type": "text"
      },
      "source": [
        "<a href=\"https://colab.research.google.com/github/tgwon/ai4ml/blob/main/week2/3-making_dataframes_from_api_requests.ipynb\" target=\"_parent\"><img src=\"https://colab.research.google.com/assets/colab-badge.svg\" alt=\"Open In Colab\"/></a>"
      ]
    },
    {
      "cell_type": "markdown",
      "metadata": {
        "id": "ADq5-rAzTrTP"
      },
      "source": [
        "# Making Pandas DataFrames from API Requests\n",
        "In this example, we will use the U.S. Geological Survey's API to grab a JSON object of earthquake data and convert it to a `pandas.DataFrame`.\n",
        "\n",
        "USGS API: https://earthquake.usgs.gov/fdsnws/event/1/"
      ]
    },
    {
      "cell_type": "markdown",
      "metadata": {
        "id": "EWEImSBwTrTR"
      },
      "source": [
        "### Get Data from API"
      ]
    },
    {
      "cell_type": "code",
      "source": [
        "from google.colab import drive\n",
        "drive.mount('/content/drive')"
      ],
      "metadata": {
        "id": "Vj5j-nz5UQiC",
        "outputId": "802e5811-e951-4671-9e63-33e10ffedefe",
        "colab": {
          "base_uri": "https://localhost:8080/"
        }
      },
      "execution_count": 6,
      "outputs": [
        {
          "output_type": "stream",
          "name": "stdout",
          "text": [
            "Drive already mounted at /content/drive; to attempt to forcibly remount, call drive.mount(\"/content/drive\", force_remount=True).\n"
          ]
        }
      ]
    },
    {
      "cell_type": "code",
      "source": [
        "cd /content/drive/MyDrive/Hands-On-Data-Analysis-with-Pandas-2nd-edition/ch_02"
      ],
      "metadata": {
        "id": "DAuv03stUR8c",
        "outputId": "cf26fe52-d7a9-49e6-ff2e-ee7b20edf3e1",
        "colab": {
          "base_uri": "https://localhost:8080/"
        }
      },
      "execution_count": 7,
      "outputs": [
        {
          "output_type": "stream",
          "name": "stdout",
          "text": [
            "/content/drive/MyDrive/Hands-On-Data-Analysis-with-Pandas-2nd-edition/ch_02\n"
          ]
        }
      ]
    },
    {
      "cell_type": "code",
      "execution_count": 8,
      "metadata": {
        "id": "3nFtD8xbTrTS",
        "outputId": "5a6c8b1d-e2df-48d1-9a68-05cf16cde370",
        "colab": {
          "base_uri": "https://localhost:8080/"
        }
      },
      "outputs": [
        {
          "output_type": "execute_result",
          "data": {
            "text/plain": [
              "200"
            ]
          },
          "metadata": {},
          "execution_count": 8
        }
      ],
      "source": [
        "import datetime as dt\n",
        "import pandas as pd\n",
        "import requests\n",
        "\n",
        "yesterday = dt.date.today() - dt.timedelta(days=1)\n",
        "api = 'https://earthquake.usgs.gov/fdsnws/event/1/query'\n",
        "payload = {\n",
        "    'format': 'geojson',\n",
        "    'starttime': yesterday - dt.timedelta(days=30),\n",
        "    'endtime': yesterday\n",
        "}\n",
        "response = requests.get(api, params=payload)\n",
        "\n",
        "# let's make sure the request was OK\n",
        "response.status_code"
      ]
    },
    {
      "cell_type": "markdown",
      "metadata": {
        "id": "5-GnqZK-TrTT"
      },
      "source": [
        "Response of 200 means OK, so we can pull the data out of the result. Since we asked the API for a JSON payload, we can extract it from the response with the `json()` method.\n",
        "\n",
        "### Isolate the Data from the JSON Response\n",
        "We need to check the structures of the response data to know where our data is."
      ]
    },
    {
      "cell_type": "code",
      "execution_count": 9,
      "metadata": {
        "id": "rHK-FZIVTrTT",
        "outputId": "b9d370f4-d122-453c-a08a-2539d028477b",
        "colab": {
          "base_uri": "https://localhost:8080/"
        }
      },
      "outputs": [
        {
          "output_type": "execute_result",
          "data": {
            "text/plain": [
              "dict_keys(['type', 'metadata', 'features', 'bbox'])"
            ]
          },
          "metadata": {},
          "execution_count": 9
        }
      ],
      "source": [
        "earthquake_json = response.json()\n",
        "earthquake_json.keys()"
      ]
    },
    {
      "cell_type": "markdown",
      "metadata": {
        "id": "RytfPSckTrTT"
      },
      "source": [
        "The USGS API provides information about our request in the `metadata` key. Note that your result will be different, regardless of the date range you chose, because the API includes a timestamp for when the data was pulled:"
      ]
    },
    {
      "cell_type": "code",
      "execution_count": null,
      "metadata": {
        "id": "j9sUyoplTrTU",
        "outputId": "63fd162f-eb1b-4165-bbe0-f056de526f1b"
      },
      "outputs": [
        {
          "data": {
            "text/plain": [
              "{'generated': 1604267813000,\n",
              " 'url': 'https://earthquake.usgs.gov/fdsnws/event/1/query?format=geojson&starttime=2020-10-01&endtime=2020-10-31',\n",
              " 'title': 'USGS Earthquakes',\n",
              " 'status': 200,\n",
              " 'api': '1.10.3',\n",
              " 'count': 13706}"
            ]
          },
          "execution_count": 3,
          "metadata": {},
          "output_type": "execute_result"
        }
      ],
      "source": [
        "earthquake_json['metadata']"
      ]
    },
    {
      "cell_type": "code",
      "source": [
        "earthquake_json['type']"
      ],
      "metadata": {
        "id": "3AkErQ_QUkN-",
        "outputId": "61d2aa06-b4cf-4233-cfcf-0f0cd9d3e442",
        "colab": {
          "base_uri": "https://localhost:8080/",
          "height": 36
        }
      },
      "execution_count": 10,
      "outputs": [
        {
          "output_type": "execute_result",
          "data": {
            "text/plain": [
              "'FeatureCollection'"
            ],
            "application/vnd.google.colaboratory.intrinsic+json": {
              "type": "string"
            }
          },
          "metadata": {},
          "execution_count": 10
        }
      ]
    },
    {
      "cell_type": "code",
      "source": [
        "earthquake_json['bbox']"
      ],
      "metadata": {
        "id": "vnjW2MXLUofh",
        "outputId": "da3844e4-0e0e-47a0-bd19-1b82ae1ad67f",
        "colab": {
          "base_uri": "https://localhost:8080/"
        }
      },
      "execution_count": 11,
      "outputs": [
        {
          "output_type": "execute_result",
          "data": {
            "text/plain": [
              "[-179.9878, -63.765, -3.24, 179.9884, 79.5583, 669.982]"
            ]
          },
          "metadata": {},
          "execution_count": 11
        }
      ]
    },
    {
      "cell_type": "code",
      "source": [
        "#earthquake_json['features']"
      ],
      "metadata": {
        "id": "7GQUJMqPUsm-"
      },
      "execution_count": null,
      "outputs": []
    },
    {
      "cell_type": "markdown",
      "metadata": {
        "id": "-bpIVJ93TrTU"
      },
      "source": [
        "Each element in the JSON array `features` is a row of data for our dataframe."
      ]
    },
    {
      "cell_type": "code",
      "execution_count": 13,
      "metadata": {
        "id": "XcxGzTIoTrTU",
        "outputId": "fec4acff-410e-4788-e551-9b096a1a2d34",
        "colab": {
          "base_uri": "https://localhost:8080/"
        }
      },
      "outputs": [
        {
          "output_type": "execute_result",
          "data": {
            "text/plain": [
              "list"
            ]
          },
          "metadata": {},
          "execution_count": 13
        }
      ],
      "source": [
        "type(earthquake_json['features'])"
      ]
    },
    {
      "cell_type": "markdown",
      "metadata": {
        "id": "nUpubp1PTrTU"
      },
      "source": [
        "Your data will be different depending on the date you run this."
      ]
    },
    {
      "cell_type": "code",
      "execution_count": 14,
      "metadata": {
        "id": "iD3RfInsTrTU",
        "outputId": "9b66d79c-4547-4c2d-dbf3-bcb457b47b7d",
        "colab": {
          "base_uri": "https://localhost:8080/"
        }
      },
      "outputs": [
        {
          "output_type": "execute_result",
          "data": {
            "text/plain": [
              "{'type': 'Feature',\n",
              " 'properties': {'mag': 1.8,\n",
              "  'place': '7 km SSE of Ferry, Alaska',\n",
              "  'time': 1697500524871,\n",
              "  'updated': 1697500656092,\n",
              "  'tz': None,\n",
              "  'url': 'https://earthquake.usgs.gov/earthquakes/eventpage/ak023dacc3xj',\n",
              "  'detail': 'https://earthquake.usgs.gov/fdsnws/event/1/query?eventid=ak023dacc3xj&format=geojson',\n",
              "  'felt': None,\n",
              "  'cdi': None,\n",
              "  'mmi': None,\n",
              "  'alert': None,\n",
              "  'status': 'automatic',\n",
              "  'tsunami': 0,\n",
              "  'sig': 50,\n",
              "  'net': 'ak',\n",
              "  'code': '023dacc3xj',\n",
              "  'ids': ',ak023dacc3xj,',\n",
              "  'sources': ',ak,',\n",
              "  'types': ',origin,phase-data,',\n",
              "  'nst': None,\n",
              "  'dmin': None,\n",
              "  'rms': 0.58,\n",
              "  'gap': None,\n",
              "  'magType': 'ml',\n",
              "  'type': 'earthquake',\n",
              "  'title': 'M 1.8 - 7 km SSE of Ferry, Alaska'},\n",
              " 'geometry': {'type': 'Point', 'coordinates': [-149.0309, 63.956, 0]},\n",
              " 'id': 'ak023dacc3xj'}"
            ]
          },
          "metadata": {},
          "execution_count": 14
        }
      ],
      "source": [
        "earthquake_json['features'][0]"
      ]
    },
    {
      "cell_type": "markdown",
      "metadata": {
        "id": "oZLWmQi0TrTV"
      },
      "source": [
        "### Convert to DataFrame\n",
        "We need to grab the `properties` section out of every entry in the `features` JSON array to create our dataframe."
      ]
    },
    {
      "cell_type": "code",
      "source": [
        "[quake['properties'] for quake in earthquake_json['features']][0]"
      ],
      "metadata": {
        "id": "cWYR6p4EVyLo",
        "outputId": "8ef6f168-d2e7-4c74-833d-6affeb5fd469",
        "colab": {
          "base_uri": "https://localhost:8080/"
        }
      },
      "execution_count": 17,
      "outputs": [
        {
          "output_type": "execute_result",
          "data": {
            "text/plain": [
              "{'mag': 1.8,\n",
              " 'place': '7 km SSE of Ferry, Alaska',\n",
              " 'time': 1697500524871,\n",
              " 'updated': 1697500656092,\n",
              " 'tz': None,\n",
              " 'url': 'https://earthquake.usgs.gov/earthquakes/eventpage/ak023dacc3xj',\n",
              " 'detail': 'https://earthquake.usgs.gov/fdsnws/event/1/query?eventid=ak023dacc3xj&format=geojson',\n",
              " 'felt': None,\n",
              " 'cdi': None,\n",
              " 'mmi': None,\n",
              " 'alert': None,\n",
              " 'status': 'automatic',\n",
              " 'tsunami': 0,\n",
              " 'sig': 50,\n",
              " 'net': 'ak',\n",
              " 'code': '023dacc3xj',\n",
              " 'ids': ',ak023dacc3xj,',\n",
              " 'sources': ',ak,',\n",
              " 'types': ',origin,phase-data,',\n",
              " 'nst': None,\n",
              " 'dmin': None,\n",
              " 'rms': 0.58,\n",
              " 'gap': None,\n",
              " 'magType': 'ml',\n",
              " 'type': 'earthquake',\n",
              " 'title': 'M 1.8 - 7 km SSE of Ferry, Alaska'}"
            ]
          },
          "metadata": {},
          "execution_count": 17
        }
      ]
    },
    {
      "cell_type": "code",
      "execution_count": 18,
      "metadata": {
        "id": "qhjXEqKyTrTV",
        "outputId": "51372723-d421-44cc-da6a-47d12934f8c2",
        "colab": {
          "base_uri": "https://localhost:8080/",
          "height": 550
        }
      },
      "outputs": [
        {
          "output_type": "execute_result",
          "data": {
            "text/plain": [
              "    mag                             place           time        updated    tz  \\\n",
              "0  1.80         7 km SSE of Ferry, Alaska  1697500524871  1697500656092  None   \n",
              "1  2.02         1 km SW of Pāhala, Hawaii  1697500335030  1697500536060  None   \n",
              "2  1.70  14 km W of Susitna North, Alaska  1697500319616  1697500408585  None   \n",
              "3  2.20              0 km ESE of Clio, CA  1697500104320  1697545213388  None   \n",
              "4  2.23       12 km S of Honoka‘a, Hawaii  1697500088540  1697501468930  None   \n",
              "\n",
              "                                                 url  \\\n",
              "0  https://earthquake.usgs.gov/earthquakes/eventp...   \n",
              "1  https://earthquake.usgs.gov/earthquakes/eventp...   \n",
              "2  https://earthquake.usgs.gov/earthquakes/eventp...   \n",
              "3  https://earthquake.usgs.gov/earthquakes/eventp...   \n",
              "4  https://earthquake.usgs.gov/earthquakes/eventp...   \n",
              "\n",
              "                                              detail  felt  cdi  mmi  ...  \\\n",
              "0  https://earthquake.usgs.gov/fdsnws/event/1/que...   NaN  NaN  NaN  ...   \n",
              "1  https://earthquake.usgs.gov/fdsnws/event/1/que...   NaN  NaN  NaN  ...   \n",
              "2  https://earthquake.usgs.gov/fdsnws/event/1/que...   NaN  NaN  NaN  ...   \n",
              "3  https://earthquake.usgs.gov/fdsnws/event/1/que...   NaN  NaN  NaN  ...   \n",
              "4  https://earthquake.usgs.gov/fdsnws/event/1/que...   NaN  NaN  NaN  ...   \n",
              "\n",
              "                       ids  sources  \\\n",
              "0           ,ak023dacc3xj,     ,ak,   \n",
              "1             ,hv73610922,     ,hv,   \n",
              "2           ,ak023dacbbqx,     ,ak,   \n",
              "3  ,nc73948100,nn00867459,  ,nc,nn,   \n",
              "4             ,hv73610917,     ,hv,   \n",
              "\n",
              "                                            types   nst    dmin   rms    gap  \\\n",
              "0                             ,origin,phase-data,   NaN     NaN  0.58    NaN   \n",
              "1                             ,origin,phase-data,  36.0     NaN  0.12  157.0   \n",
              "2                             ,origin,phase-data,   NaN     NaN  0.48    NaN   \n",
              "3  ,nearby-cities,origin,phase-data,scitech-link,  17.0  0.1047  0.10   91.0   \n",
              "4                             ,origin,phase-data,  40.0     NaN  0.15  142.0   \n",
              "\n",
              "  magType        type                                     title  \n",
              "0      ml  earthquake         M 1.8 - 7 km SSE of Ferry, Alaska  \n",
              "1      md  earthquake         M 2.0 - 1 km SW of Pāhala, Hawaii  \n",
              "2      ml  earthquake  M 1.7 - 14 km W of Susitna North, Alaska  \n",
              "3      md  earthquake              M 2.2 - 0 km ESE of Clio, CA  \n",
              "4      ml  earthquake       M 2.2 - 12 km S of Honoka‘a, Hawaii  \n",
              "\n",
              "[5 rows x 26 columns]"
            ],
            "text/html": [
              "\n",
              "  <div id=\"df-6ce58950-94e5-4ada-8148-579b7b7f6af4\" class=\"colab-df-container\">\n",
              "    <div>\n",
              "<style scoped>\n",
              "    .dataframe tbody tr th:only-of-type {\n",
              "        vertical-align: middle;\n",
              "    }\n",
              "\n",
              "    .dataframe tbody tr th {\n",
              "        vertical-align: top;\n",
              "    }\n",
              "\n",
              "    .dataframe thead th {\n",
              "        text-align: right;\n",
              "    }\n",
              "</style>\n",
              "<table border=\"1\" class=\"dataframe\">\n",
              "  <thead>\n",
              "    <tr style=\"text-align: right;\">\n",
              "      <th></th>\n",
              "      <th>mag</th>\n",
              "      <th>place</th>\n",
              "      <th>time</th>\n",
              "      <th>updated</th>\n",
              "      <th>tz</th>\n",
              "      <th>url</th>\n",
              "      <th>detail</th>\n",
              "      <th>felt</th>\n",
              "      <th>cdi</th>\n",
              "      <th>mmi</th>\n",
              "      <th>...</th>\n",
              "      <th>ids</th>\n",
              "      <th>sources</th>\n",
              "      <th>types</th>\n",
              "      <th>nst</th>\n",
              "      <th>dmin</th>\n",
              "      <th>rms</th>\n",
              "      <th>gap</th>\n",
              "      <th>magType</th>\n",
              "      <th>type</th>\n",
              "      <th>title</th>\n",
              "    </tr>\n",
              "  </thead>\n",
              "  <tbody>\n",
              "    <tr>\n",
              "      <th>0</th>\n",
              "      <td>1.80</td>\n",
              "      <td>7 km SSE of Ferry, Alaska</td>\n",
              "      <td>1697500524871</td>\n",
              "      <td>1697500656092</td>\n",
              "      <td>None</td>\n",
              "      <td>https://earthquake.usgs.gov/earthquakes/eventp...</td>\n",
              "      <td>https://earthquake.usgs.gov/fdsnws/event/1/que...</td>\n",
              "      <td>NaN</td>\n",
              "      <td>NaN</td>\n",
              "      <td>NaN</td>\n",
              "      <td>...</td>\n",
              "      <td>,ak023dacc3xj,</td>\n",
              "      <td>,ak,</td>\n",
              "      <td>,origin,phase-data,</td>\n",
              "      <td>NaN</td>\n",
              "      <td>NaN</td>\n",
              "      <td>0.58</td>\n",
              "      <td>NaN</td>\n",
              "      <td>ml</td>\n",
              "      <td>earthquake</td>\n",
              "      <td>M 1.8 - 7 km SSE of Ferry, Alaska</td>\n",
              "    </tr>\n",
              "    <tr>\n",
              "      <th>1</th>\n",
              "      <td>2.02</td>\n",
              "      <td>1 km SW of Pāhala, Hawaii</td>\n",
              "      <td>1697500335030</td>\n",
              "      <td>1697500536060</td>\n",
              "      <td>None</td>\n",
              "      <td>https://earthquake.usgs.gov/earthquakes/eventp...</td>\n",
              "      <td>https://earthquake.usgs.gov/fdsnws/event/1/que...</td>\n",
              "      <td>NaN</td>\n",
              "      <td>NaN</td>\n",
              "      <td>NaN</td>\n",
              "      <td>...</td>\n",
              "      <td>,hv73610922,</td>\n",
              "      <td>,hv,</td>\n",
              "      <td>,origin,phase-data,</td>\n",
              "      <td>36.0</td>\n",
              "      <td>NaN</td>\n",
              "      <td>0.12</td>\n",
              "      <td>157.0</td>\n",
              "      <td>md</td>\n",
              "      <td>earthquake</td>\n",
              "      <td>M 2.0 - 1 km SW of Pāhala, Hawaii</td>\n",
              "    </tr>\n",
              "    <tr>\n",
              "      <th>2</th>\n",
              "      <td>1.70</td>\n",
              "      <td>14 km W of Susitna North, Alaska</td>\n",
              "      <td>1697500319616</td>\n",
              "      <td>1697500408585</td>\n",
              "      <td>None</td>\n",
              "      <td>https://earthquake.usgs.gov/earthquakes/eventp...</td>\n",
              "      <td>https://earthquake.usgs.gov/fdsnws/event/1/que...</td>\n",
              "      <td>NaN</td>\n",
              "      <td>NaN</td>\n",
              "      <td>NaN</td>\n",
              "      <td>...</td>\n",
              "      <td>,ak023dacbbqx,</td>\n",
              "      <td>,ak,</td>\n",
              "      <td>,origin,phase-data,</td>\n",
              "      <td>NaN</td>\n",
              "      <td>NaN</td>\n",
              "      <td>0.48</td>\n",
              "      <td>NaN</td>\n",
              "      <td>ml</td>\n",
              "      <td>earthquake</td>\n",
              "      <td>M 1.7 - 14 km W of Susitna North, Alaska</td>\n",
              "    </tr>\n",
              "    <tr>\n",
              "      <th>3</th>\n",
              "      <td>2.20</td>\n",
              "      <td>0 km ESE of Clio, CA</td>\n",
              "      <td>1697500104320</td>\n",
              "      <td>1697545213388</td>\n",
              "      <td>None</td>\n",
              "      <td>https://earthquake.usgs.gov/earthquakes/eventp...</td>\n",
              "      <td>https://earthquake.usgs.gov/fdsnws/event/1/que...</td>\n",
              "      <td>NaN</td>\n",
              "      <td>NaN</td>\n",
              "      <td>NaN</td>\n",
              "      <td>...</td>\n",
              "      <td>,nc73948100,nn00867459,</td>\n",
              "      <td>,nc,nn,</td>\n",
              "      <td>,nearby-cities,origin,phase-data,scitech-link,</td>\n",
              "      <td>17.0</td>\n",
              "      <td>0.1047</td>\n",
              "      <td>0.10</td>\n",
              "      <td>91.0</td>\n",
              "      <td>md</td>\n",
              "      <td>earthquake</td>\n",
              "      <td>M 2.2 - 0 km ESE of Clio, CA</td>\n",
              "    </tr>\n",
              "    <tr>\n",
              "      <th>4</th>\n",
              "      <td>2.23</td>\n",
              "      <td>12 km S of Honoka‘a, Hawaii</td>\n",
              "      <td>1697500088540</td>\n",
              "      <td>1697501468930</td>\n",
              "      <td>None</td>\n",
              "      <td>https://earthquake.usgs.gov/earthquakes/eventp...</td>\n",
              "      <td>https://earthquake.usgs.gov/fdsnws/event/1/que...</td>\n",
              "      <td>NaN</td>\n",
              "      <td>NaN</td>\n",
              "      <td>NaN</td>\n",
              "      <td>...</td>\n",
              "      <td>,hv73610917,</td>\n",
              "      <td>,hv,</td>\n",
              "      <td>,origin,phase-data,</td>\n",
              "      <td>40.0</td>\n",
              "      <td>NaN</td>\n",
              "      <td>0.15</td>\n",
              "      <td>142.0</td>\n",
              "      <td>ml</td>\n",
              "      <td>earthquake</td>\n",
              "      <td>M 2.2 - 12 km S of Honoka‘a, Hawaii</td>\n",
              "    </tr>\n",
              "  </tbody>\n",
              "</table>\n",
              "<p>5 rows × 26 columns</p>\n",
              "</div>\n",
              "    <div class=\"colab-df-buttons\">\n",
              "\n",
              "  <div class=\"colab-df-container\">\n",
              "    <button class=\"colab-df-convert\" onclick=\"convertToInteractive('df-6ce58950-94e5-4ada-8148-579b7b7f6af4')\"\n",
              "            title=\"Convert this dataframe to an interactive table.\"\n",
              "            style=\"display:none;\">\n",
              "\n",
              "  <svg xmlns=\"http://www.w3.org/2000/svg\" height=\"24px\" viewBox=\"0 -960 960 960\">\n",
              "    <path d=\"M120-120v-720h720v720H120Zm60-500h600v-160H180v160Zm220 220h160v-160H400v160Zm0 220h160v-160H400v160ZM180-400h160v-160H180v160Zm440 0h160v-160H620v160ZM180-180h160v-160H180v160Zm440 0h160v-160H620v160Z\"/>\n",
              "  </svg>\n",
              "    </button>\n",
              "\n",
              "  <style>\n",
              "    .colab-df-container {\n",
              "      display:flex;\n",
              "      gap: 12px;\n",
              "    }\n",
              "\n",
              "    .colab-df-convert {\n",
              "      background-color: #E8F0FE;\n",
              "      border: none;\n",
              "      border-radius: 50%;\n",
              "      cursor: pointer;\n",
              "      display: none;\n",
              "      fill: #1967D2;\n",
              "      height: 32px;\n",
              "      padding: 0 0 0 0;\n",
              "      width: 32px;\n",
              "    }\n",
              "\n",
              "    .colab-df-convert:hover {\n",
              "      background-color: #E2EBFA;\n",
              "      box-shadow: 0px 1px 2px rgba(60, 64, 67, 0.3), 0px 1px 3px 1px rgba(60, 64, 67, 0.15);\n",
              "      fill: #174EA6;\n",
              "    }\n",
              "\n",
              "    .colab-df-buttons div {\n",
              "      margin-bottom: 4px;\n",
              "    }\n",
              "\n",
              "    [theme=dark] .colab-df-convert {\n",
              "      background-color: #3B4455;\n",
              "      fill: #D2E3FC;\n",
              "    }\n",
              "\n",
              "    [theme=dark] .colab-df-convert:hover {\n",
              "      background-color: #434B5C;\n",
              "      box-shadow: 0px 1px 3px 1px rgba(0, 0, 0, 0.15);\n",
              "      filter: drop-shadow(0px 1px 2px rgba(0, 0, 0, 0.3));\n",
              "      fill: #FFFFFF;\n",
              "    }\n",
              "  </style>\n",
              "\n",
              "    <script>\n",
              "      const buttonEl =\n",
              "        document.querySelector('#df-6ce58950-94e5-4ada-8148-579b7b7f6af4 button.colab-df-convert');\n",
              "      buttonEl.style.display =\n",
              "        google.colab.kernel.accessAllowed ? 'block' : 'none';\n",
              "\n",
              "      async function convertToInteractive(key) {\n",
              "        const element = document.querySelector('#df-6ce58950-94e5-4ada-8148-579b7b7f6af4');\n",
              "        const dataTable =\n",
              "          await google.colab.kernel.invokeFunction('convertToInteractive',\n",
              "                                                    [key], {});\n",
              "        if (!dataTable) return;\n",
              "\n",
              "        const docLinkHtml = 'Like what you see? Visit the ' +\n",
              "          '<a target=\"_blank\" href=https://colab.research.google.com/notebooks/data_table.ipynb>data table notebook</a>'\n",
              "          + ' to learn more about interactive tables.';\n",
              "        element.innerHTML = '';\n",
              "        dataTable['output_type'] = 'display_data';\n",
              "        await google.colab.output.renderOutput(dataTable, element);\n",
              "        const docLink = document.createElement('div');\n",
              "        docLink.innerHTML = docLinkHtml;\n",
              "        element.appendChild(docLink);\n",
              "      }\n",
              "    </script>\n",
              "  </div>\n",
              "\n",
              "\n",
              "<div id=\"df-912646b5-1b22-4248-bb2f-bad498cb9b8b\">\n",
              "  <button class=\"colab-df-quickchart\" onclick=\"quickchart('df-912646b5-1b22-4248-bb2f-bad498cb9b8b')\"\n",
              "            title=\"Suggest charts.\"\n",
              "            style=\"display:none;\">\n",
              "\n",
              "<svg xmlns=\"http://www.w3.org/2000/svg\" height=\"24px\"viewBox=\"0 0 24 24\"\n",
              "     width=\"24px\">\n",
              "    <g>\n",
              "        <path d=\"M19 3H5c-1.1 0-2 .9-2 2v14c0 1.1.9 2 2 2h14c1.1 0 2-.9 2-2V5c0-1.1-.9-2-2-2zM9 17H7v-7h2v7zm4 0h-2V7h2v10zm4 0h-2v-4h2v4z\"/>\n",
              "    </g>\n",
              "</svg>\n",
              "  </button>\n",
              "\n",
              "<style>\n",
              "  .colab-df-quickchart {\n",
              "      --bg-color: #E8F0FE;\n",
              "      --fill-color: #1967D2;\n",
              "      --hover-bg-color: #E2EBFA;\n",
              "      --hover-fill-color: #174EA6;\n",
              "      --disabled-fill-color: #AAA;\n",
              "      --disabled-bg-color: #DDD;\n",
              "  }\n",
              "\n",
              "  [theme=dark] .colab-df-quickchart {\n",
              "      --bg-color: #3B4455;\n",
              "      --fill-color: #D2E3FC;\n",
              "      --hover-bg-color: #434B5C;\n",
              "      --hover-fill-color: #FFFFFF;\n",
              "      --disabled-bg-color: #3B4455;\n",
              "      --disabled-fill-color: #666;\n",
              "  }\n",
              "\n",
              "  .colab-df-quickchart {\n",
              "    background-color: var(--bg-color);\n",
              "    border: none;\n",
              "    border-radius: 50%;\n",
              "    cursor: pointer;\n",
              "    display: none;\n",
              "    fill: var(--fill-color);\n",
              "    height: 32px;\n",
              "    padding: 0;\n",
              "    width: 32px;\n",
              "  }\n",
              "\n",
              "  .colab-df-quickchart:hover {\n",
              "    background-color: var(--hover-bg-color);\n",
              "    box-shadow: 0 1px 2px rgba(60, 64, 67, 0.3), 0 1px 3px 1px rgba(60, 64, 67, 0.15);\n",
              "    fill: var(--button-hover-fill-color);\n",
              "  }\n",
              "\n",
              "  .colab-df-quickchart-complete:disabled,\n",
              "  .colab-df-quickchart-complete:disabled:hover {\n",
              "    background-color: var(--disabled-bg-color);\n",
              "    fill: var(--disabled-fill-color);\n",
              "    box-shadow: none;\n",
              "  }\n",
              "\n",
              "  .colab-df-spinner {\n",
              "    border: 2px solid var(--fill-color);\n",
              "    border-color: transparent;\n",
              "    border-bottom-color: var(--fill-color);\n",
              "    animation:\n",
              "      spin 1s steps(1) infinite;\n",
              "  }\n",
              "\n",
              "  @keyframes spin {\n",
              "    0% {\n",
              "      border-color: transparent;\n",
              "      border-bottom-color: var(--fill-color);\n",
              "      border-left-color: var(--fill-color);\n",
              "    }\n",
              "    20% {\n",
              "      border-color: transparent;\n",
              "      border-left-color: var(--fill-color);\n",
              "      border-top-color: var(--fill-color);\n",
              "    }\n",
              "    30% {\n",
              "      border-color: transparent;\n",
              "      border-left-color: var(--fill-color);\n",
              "      border-top-color: var(--fill-color);\n",
              "      border-right-color: var(--fill-color);\n",
              "    }\n",
              "    40% {\n",
              "      border-color: transparent;\n",
              "      border-right-color: var(--fill-color);\n",
              "      border-top-color: var(--fill-color);\n",
              "    }\n",
              "    60% {\n",
              "      border-color: transparent;\n",
              "      border-right-color: var(--fill-color);\n",
              "    }\n",
              "    80% {\n",
              "      border-color: transparent;\n",
              "      border-right-color: var(--fill-color);\n",
              "      border-bottom-color: var(--fill-color);\n",
              "    }\n",
              "    90% {\n",
              "      border-color: transparent;\n",
              "      border-bottom-color: var(--fill-color);\n",
              "    }\n",
              "  }\n",
              "</style>\n",
              "\n",
              "  <script>\n",
              "    async function quickchart(key) {\n",
              "      const quickchartButtonEl =\n",
              "        document.querySelector('#' + key + ' button');\n",
              "      quickchartButtonEl.disabled = true;  // To prevent multiple clicks.\n",
              "      quickchartButtonEl.classList.add('colab-df-spinner');\n",
              "      try {\n",
              "        const charts = await google.colab.kernel.invokeFunction(\n",
              "            'suggestCharts', [key], {});\n",
              "      } catch (error) {\n",
              "        console.error('Error during call to suggestCharts:', error);\n",
              "      }\n",
              "      quickchartButtonEl.classList.remove('colab-df-spinner');\n",
              "      quickchartButtonEl.classList.add('colab-df-quickchart-complete');\n",
              "    }\n",
              "    (() => {\n",
              "      let quickchartButtonEl =\n",
              "        document.querySelector('#df-912646b5-1b22-4248-bb2f-bad498cb9b8b button');\n",
              "      quickchartButtonEl.style.display =\n",
              "        google.colab.kernel.accessAllowed ? 'block' : 'none';\n",
              "    })();\n",
              "  </script>\n",
              "</div>\n",
              "    </div>\n",
              "  </div>\n"
            ]
          },
          "metadata": {},
          "execution_count": 18
        }
      ],
      "source": [
        "earthquake_properties_data = [\n",
        "    quake['properties'] for quake in earthquake_json['features']\n",
        "]\n",
        "df = pd.DataFrame(earthquake_properties_data)\n",
        "df.head()"
      ]
    },
    {
      "cell_type": "markdown",
      "metadata": {
        "id": "d6NY2CR_TrTW"
      },
      "source": [
        "### (Optional) Write Data to CSV"
      ]
    },
    {
      "cell_type": "code",
      "execution_count": null,
      "metadata": {
        "id": "v-ZHo8dRTrTX"
      },
      "outputs": [],
      "source": [
        "df.to_csv('earthquakes.csv', index=False)"
      ]
    },
    {
      "cell_type": "markdown",
      "metadata": {
        "id": "2QiiIkerTrTY"
      },
      "source": [
        "<hr>\n",
        "<div>\n",
        "    <a href=\"./2-creating_dataframes.ipynb\">\n",
        "        <button style=\"float: left;\">&#8592; Previous Notebook</button>\n",
        "    </a>\n",
        "    <a href=\"./4-inspecting_dataframes.ipynb\">\n",
        "        <button style=\"float: right;\">Next Notebook &#8594;</button>\n",
        "    </a>\n",
        "</div>\n",
        "<br>\n",
        "<hr>"
      ]
    }
  ],
  "metadata": {
    "kernelspec": {
      "display_name": "Python 3",
      "language": "python",
      "name": "python3"
    },
    "language_info": {
      "codemirror_mode": {
        "name": "ipython",
        "version": 3
      },
      "file_extension": ".py",
      "mimetype": "text/x-python",
      "name": "python",
      "nbconvert_exporter": "python",
      "pygments_lexer": "ipython3",
      "version": "3.7.3"
    },
    "colab": {
      "provenance": [],
      "include_colab_link": true
    }
  },
  "nbformat": 4,
  "nbformat_minor": 0
}