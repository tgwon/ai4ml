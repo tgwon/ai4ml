{
  "cells": [
    {
      "cell_type": "markdown",
      "metadata": {
        "id": "view-in-github",
        "colab_type": "text"
      },
      "source": [
        "<a href=\"https://colab.research.google.com/github/tgwon/ai4ml/blob/main/week3/6-adding_and_removing_data.ipynb\" target=\"_parent\"><img src=\"https://colab.research.google.com/assets/colab-badge.svg\" alt=\"Open In Colab\"/></a>"
      ]
    },
    {
      "cell_type": "markdown",
      "metadata": {
        "id": "FtgbR2xtEA63"
      },
      "source": [
        "# Adding and Removing Data\n",
        "\n",
        "## About the Data\n",
        "In this notebook, we will be working with earthquake data from September 18, 2018 - October 13, 2018 (obtained from the US Geological Survey (USGS) using the [USGS API](https://earthquake.usgs.gov/fdsnws/event/1/))\n",
        "\n",
        "## Setup\n",
        "We will be working with the `data/earthquakes.csv` file again, so we need to handle our imports and read it in."
      ]
    },
    {
      "cell_type": "code",
      "source": [
        "from google.colab import drive\n",
        "drive.mount('/content/drive')"
      ],
      "metadata": {
        "id": "Qr-nxa-EEDPI",
        "outputId": "47e6059d-bf0f-4ff7-acea-12a563d29fde",
        "colab": {
          "base_uri": "https://localhost:8080/"
        }
      },
      "execution_count": 1,
      "outputs": [
        {
          "output_type": "stream",
          "name": "stdout",
          "text": [
            "Mounted at /content/drive\n"
          ]
        }
      ]
    },
    {
      "cell_type": "code",
      "source": [
        "cd /content/drive/MyDrive/Hands-On-Data-Analysis-with-Pandas-2nd-edition/ch_02"
      ],
      "metadata": {
        "id": "XhHVj-M0EDl8",
        "outputId": "dea61f20-1afe-4554-e7b9-5b444b5b73bc",
        "colab": {
          "base_uri": "https://localhost:8080/"
        }
      },
      "execution_count": 2,
      "outputs": [
        {
          "output_type": "stream",
          "name": "stdout",
          "text": [
            "/content/drive/MyDrive/Hands-On-Data-Analysis-with-Pandas-2nd-edition/ch_02\n"
          ]
        }
      ]
    },
    {
      "cell_type": "code",
      "execution_count": 3,
      "metadata": {
        "id": "44pwPj6xEA6_"
      },
      "outputs": [],
      "source": [
        "import pandas as pd\n",
        "\n",
        "df = pd.read_csv(\n",
        "    'data/earthquakes.csv',\n",
        "    usecols=['time', 'title', 'place', 'magType', 'mag', 'alert', 'tsunami']\n",
        ")"
      ]
    },
    {
      "cell_type": "markdown",
      "metadata": {
        "id": "5x16yLhHEA7C"
      },
      "source": [
        "## Creating new data\n",
        "### Adding new columns\n",
        "New columns get added to the right of the original columns and can be a single value, which will be **broadcast** along the rows of the dataframe:"
      ]
    },
    {
      "cell_type": "code",
      "execution_count": 4,
      "metadata": {
        "id": "Wn0kSOPoEA7D",
        "outputId": "14a3d4f9-4db5-4684-999a-61809204ca26",
        "colab": {
          "base_uri": "https://localhost:8080/",
          "height": 206
        }
      },
      "outputs": [
        {
          "output_type": "execute_result",
          "data": {
            "text/plain": [
              "  alert   mag magType                  place           time  \\\n",
              "0   NaN  1.35      ml  9km NE of Aguanga, CA  1539475168010   \n",
              "1   NaN  1.29      ml  9km NE of Aguanga, CA  1539475129610   \n",
              "2   NaN  3.42      ml  8km NE of Aguanga, CA  1539475062610   \n",
              "3   NaN  0.44      ml  9km NE of Aguanga, CA  1539474978070   \n",
              "4   NaN  2.16      md  10km NW of Avenal, CA  1539474716050   \n",
              "\n",
              "                           title  tsunami    source  \n",
              "0  M 1.4 - 9km NE of Aguanga, CA        0  USGS API  \n",
              "1  M 1.3 - 9km NE of Aguanga, CA        0  USGS API  \n",
              "2  M 3.4 - 8km NE of Aguanga, CA        0  USGS API  \n",
              "3  M 0.4 - 9km NE of Aguanga, CA        0  USGS API  \n",
              "4  M 2.2 - 10km NW of Avenal, CA        0  USGS API  "
            ],
            "text/html": [
              "\n",
              "  <div id=\"df-9ec5d628-1177-4227-b61c-fec4340e9f8a\" class=\"colab-df-container\">\n",
              "    <div>\n",
              "<style scoped>\n",
              "    .dataframe tbody tr th:only-of-type {\n",
              "        vertical-align: middle;\n",
              "    }\n",
              "\n",
              "    .dataframe tbody tr th {\n",
              "        vertical-align: top;\n",
              "    }\n",
              "\n",
              "    .dataframe thead th {\n",
              "        text-align: right;\n",
              "    }\n",
              "</style>\n",
              "<table border=\"1\" class=\"dataframe\">\n",
              "  <thead>\n",
              "    <tr style=\"text-align: right;\">\n",
              "      <th></th>\n",
              "      <th>alert</th>\n",
              "      <th>mag</th>\n",
              "      <th>magType</th>\n",
              "      <th>place</th>\n",
              "      <th>time</th>\n",
              "      <th>title</th>\n",
              "      <th>tsunami</th>\n",
              "      <th>source</th>\n",
              "    </tr>\n",
              "  </thead>\n",
              "  <tbody>\n",
              "    <tr>\n",
              "      <th>0</th>\n",
              "      <td>NaN</td>\n",
              "      <td>1.35</td>\n",
              "      <td>ml</td>\n",
              "      <td>9km NE of Aguanga, CA</td>\n",
              "      <td>1539475168010</td>\n",
              "      <td>M 1.4 - 9km NE of Aguanga, CA</td>\n",
              "      <td>0</td>\n",
              "      <td>USGS API</td>\n",
              "    </tr>\n",
              "    <tr>\n",
              "      <th>1</th>\n",
              "      <td>NaN</td>\n",
              "      <td>1.29</td>\n",
              "      <td>ml</td>\n",
              "      <td>9km NE of Aguanga, CA</td>\n",
              "      <td>1539475129610</td>\n",
              "      <td>M 1.3 - 9km NE of Aguanga, CA</td>\n",
              "      <td>0</td>\n",
              "      <td>USGS API</td>\n",
              "    </tr>\n",
              "    <tr>\n",
              "      <th>2</th>\n",
              "      <td>NaN</td>\n",
              "      <td>3.42</td>\n",
              "      <td>ml</td>\n",
              "      <td>8km NE of Aguanga, CA</td>\n",
              "      <td>1539475062610</td>\n",
              "      <td>M 3.4 - 8km NE of Aguanga, CA</td>\n",
              "      <td>0</td>\n",
              "      <td>USGS API</td>\n",
              "    </tr>\n",
              "    <tr>\n",
              "      <th>3</th>\n",
              "      <td>NaN</td>\n",
              "      <td>0.44</td>\n",
              "      <td>ml</td>\n",
              "      <td>9km NE of Aguanga, CA</td>\n",
              "      <td>1539474978070</td>\n",
              "      <td>M 0.4 - 9km NE of Aguanga, CA</td>\n",
              "      <td>0</td>\n",
              "      <td>USGS API</td>\n",
              "    </tr>\n",
              "    <tr>\n",
              "      <th>4</th>\n",
              "      <td>NaN</td>\n",
              "      <td>2.16</td>\n",
              "      <td>md</td>\n",
              "      <td>10km NW of Avenal, CA</td>\n",
              "      <td>1539474716050</td>\n",
              "      <td>M 2.2 - 10km NW of Avenal, CA</td>\n",
              "      <td>0</td>\n",
              "      <td>USGS API</td>\n",
              "    </tr>\n",
              "  </tbody>\n",
              "</table>\n",
              "</div>\n",
              "    <div class=\"colab-df-buttons\">\n",
              "\n",
              "  <div class=\"colab-df-container\">\n",
              "    <button class=\"colab-df-convert\" onclick=\"convertToInteractive('df-9ec5d628-1177-4227-b61c-fec4340e9f8a')\"\n",
              "            title=\"Convert this dataframe to an interactive table.\"\n",
              "            style=\"display:none;\">\n",
              "\n",
              "  <svg xmlns=\"http://www.w3.org/2000/svg\" height=\"24px\" viewBox=\"0 -960 960 960\">\n",
              "    <path d=\"M120-120v-720h720v720H120Zm60-500h600v-160H180v160Zm220 220h160v-160H400v160Zm0 220h160v-160H400v160ZM180-400h160v-160H180v160Zm440 0h160v-160H620v160ZM180-180h160v-160H180v160Zm440 0h160v-160H620v160Z\"/>\n",
              "  </svg>\n",
              "    </button>\n",
              "\n",
              "  <style>\n",
              "    .colab-df-container {\n",
              "      display:flex;\n",
              "      gap: 12px;\n",
              "    }\n",
              "\n",
              "    .colab-df-convert {\n",
              "      background-color: #E8F0FE;\n",
              "      border: none;\n",
              "      border-radius: 50%;\n",
              "      cursor: pointer;\n",
              "      display: none;\n",
              "      fill: #1967D2;\n",
              "      height: 32px;\n",
              "      padding: 0 0 0 0;\n",
              "      width: 32px;\n",
              "    }\n",
              "\n",
              "    .colab-df-convert:hover {\n",
              "      background-color: #E2EBFA;\n",
              "      box-shadow: 0px 1px 2px rgba(60, 64, 67, 0.3), 0px 1px 3px 1px rgba(60, 64, 67, 0.15);\n",
              "      fill: #174EA6;\n",
              "    }\n",
              "\n",
              "    .colab-df-buttons div {\n",
              "      margin-bottom: 4px;\n",
              "    }\n",
              "\n",
              "    [theme=dark] .colab-df-convert {\n",
              "      background-color: #3B4455;\n",
              "      fill: #D2E3FC;\n",
              "    }\n",
              "\n",
              "    [theme=dark] .colab-df-convert:hover {\n",
              "      background-color: #434B5C;\n",
              "      box-shadow: 0px 1px 3px 1px rgba(0, 0, 0, 0.15);\n",
              "      filter: drop-shadow(0px 1px 2px rgba(0, 0, 0, 0.3));\n",
              "      fill: #FFFFFF;\n",
              "    }\n",
              "  </style>\n",
              "\n",
              "    <script>\n",
              "      const buttonEl =\n",
              "        document.querySelector('#df-9ec5d628-1177-4227-b61c-fec4340e9f8a button.colab-df-convert');\n",
              "      buttonEl.style.display =\n",
              "        google.colab.kernel.accessAllowed ? 'block' : 'none';\n",
              "\n",
              "      async function convertToInteractive(key) {\n",
              "        const element = document.querySelector('#df-9ec5d628-1177-4227-b61c-fec4340e9f8a');\n",
              "        const dataTable =\n",
              "          await google.colab.kernel.invokeFunction('convertToInteractive',\n",
              "                                                    [key], {});\n",
              "        if (!dataTable) return;\n",
              "\n",
              "        const docLinkHtml = 'Like what you see? Visit the ' +\n",
              "          '<a target=\"_blank\" href=https://colab.research.google.com/notebooks/data_table.ipynb>data table notebook</a>'\n",
              "          + ' to learn more about interactive tables.';\n",
              "        element.innerHTML = '';\n",
              "        dataTable['output_type'] = 'display_data';\n",
              "        await google.colab.output.renderOutput(dataTable, element);\n",
              "        const docLink = document.createElement('div');\n",
              "        docLink.innerHTML = docLinkHtml;\n",
              "        element.appendChild(docLink);\n",
              "      }\n",
              "    </script>\n",
              "  </div>\n",
              "\n",
              "\n",
              "<div id=\"df-67ac46d5-b9a7-4236-b03a-d718ca28c0ab\">\n",
              "  <button class=\"colab-df-quickchart\" onclick=\"quickchart('df-67ac46d5-b9a7-4236-b03a-d718ca28c0ab')\"\n",
              "            title=\"Suggest charts.\"\n",
              "            style=\"display:none;\">\n",
              "\n",
              "<svg xmlns=\"http://www.w3.org/2000/svg\" height=\"24px\"viewBox=\"0 0 24 24\"\n",
              "     width=\"24px\">\n",
              "    <g>\n",
              "        <path d=\"M19 3H5c-1.1 0-2 .9-2 2v14c0 1.1.9 2 2 2h14c1.1 0 2-.9 2-2V5c0-1.1-.9-2-2-2zM9 17H7v-7h2v7zm4 0h-2V7h2v10zm4 0h-2v-4h2v4z\"/>\n",
              "    </g>\n",
              "</svg>\n",
              "  </button>\n",
              "\n",
              "<style>\n",
              "  .colab-df-quickchart {\n",
              "      --bg-color: #E8F0FE;\n",
              "      --fill-color: #1967D2;\n",
              "      --hover-bg-color: #E2EBFA;\n",
              "      --hover-fill-color: #174EA6;\n",
              "      --disabled-fill-color: #AAA;\n",
              "      --disabled-bg-color: #DDD;\n",
              "  }\n",
              "\n",
              "  [theme=dark] .colab-df-quickchart {\n",
              "      --bg-color: #3B4455;\n",
              "      --fill-color: #D2E3FC;\n",
              "      --hover-bg-color: #434B5C;\n",
              "      --hover-fill-color: #FFFFFF;\n",
              "      --disabled-bg-color: #3B4455;\n",
              "      --disabled-fill-color: #666;\n",
              "  }\n",
              "\n",
              "  .colab-df-quickchart {\n",
              "    background-color: var(--bg-color);\n",
              "    border: none;\n",
              "    border-radius: 50%;\n",
              "    cursor: pointer;\n",
              "    display: none;\n",
              "    fill: var(--fill-color);\n",
              "    height: 32px;\n",
              "    padding: 0;\n",
              "    width: 32px;\n",
              "  }\n",
              "\n",
              "  .colab-df-quickchart:hover {\n",
              "    background-color: var(--hover-bg-color);\n",
              "    box-shadow: 0 1px 2px rgba(60, 64, 67, 0.3), 0 1px 3px 1px rgba(60, 64, 67, 0.15);\n",
              "    fill: var(--button-hover-fill-color);\n",
              "  }\n",
              "\n",
              "  .colab-df-quickchart-complete:disabled,\n",
              "  .colab-df-quickchart-complete:disabled:hover {\n",
              "    background-color: var(--disabled-bg-color);\n",
              "    fill: var(--disabled-fill-color);\n",
              "    box-shadow: none;\n",
              "  }\n",
              "\n",
              "  .colab-df-spinner {\n",
              "    border: 2px solid var(--fill-color);\n",
              "    border-color: transparent;\n",
              "    border-bottom-color: var(--fill-color);\n",
              "    animation:\n",
              "      spin 1s steps(1) infinite;\n",
              "  }\n",
              "\n",
              "  @keyframes spin {\n",
              "    0% {\n",
              "      border-color: transparent;\n",
              "      border-bottom-color: var(--fill-color);\n",
              "      border-left-color: var(--fill-color);\n",
              "    }\n",
              "    20% {\n",
              "      border-color: transparent;\n",
              "      border-left-color: var(--fill-color);\n",
              "      border-top-color: var(--fill-color);\n",
              "    }\n",
              "    30% {\n",
              "      border-color: transparent;\n",
              "      border-left-color: var(--fill-color);\n",
              "      border-top-color: var(--fill-color);\n",
              "      border-right-color: var(--fill-color);\n",
              "    }\n",
              "    40% {\n",
              "      border-color: transparent;\n",
              "      border-right-color: var(--fill-color);\n",
              "      border-top-color: var(--fill-color);\n",
              "    }\n",
              "    60% {\n",
              "      border-color: transparent;\n",
              "      border-right-color: var(--fill-color);\n",
              "    }\n",
              "    80% {\n",
              "      border-color: transparent;\n",
              "      border-right-color: var(--fill-color);\n",
              "      border-bottom-color: var(--fill-color);\n",
              "    }\n",
              "    90% {\n",
              "      border-color: transparent;\n",
              "      border-bottom-color: var(--fill-color);\n",
              "    }\n",
              "  }\n",
              "</style>\n",
              "\n",
              "  <script>\n",
              "    async function quickchart(key) {\n",
              "      const quickchartButtonEl =\n",
              "        document.querySelector('#' + key + ' button');\n",
              "      quickchartButtonEl.disabled = true;  // To prevent multiple clicks.\n",
              "      quickchartButtonEl.classList.add('colab-df-spinner');\n",
              "      try {\n",
              "        const charts = await google.colab.kernel.invokeFunction(\n",
              "            'suggestCharts', [key], {});\n",
              "      } catch (error) {\n",
              "        console.error('Error during call to suggestCharts:', error);\n",
              "      }\n",
              "      quickchartButtonEl.classList.remove('colab-df-spinner');\n",
              "      quickchartButtonEl.classList.add('colab-df-quickchart-complete');\n",
              "    }\n",
              "    (() => {\n",
              "      let quickchartButtonEl =\n",
              "        document.querySelector('#df-67ac46d5-b9a7-4236-b03a-d718ca28c0ab button');\n",
              "      quickchartButtonEl.style.display =\n",
              "        google.colab.kernel.accessAllowed ? 'block' : 'none';\n",
              "    })();\n",
              "  </script>\n",
              "</div>\n",
              "    </div>\n",
              "  </div>\n"
            ]
          },
          "metadata": {},
          "execution_count": 4
        }
      ],
      "source": [
        "df['source'] = 'USGS API'\n",
        "df.head()"
      ]
    },
    {
      "cell_type": "markdown",
      "metadata": {
        "id": "ikpDLJI5EA7F"
      },
      "source": [
        "...or a Boolean mask:"
      ]
    },
    {
      "cell_type": "code",
      "execution_count": 5,
      "metadata": {
        "id": "4SI6wkdFEA7F",
        "outputId": "f6a2bbb6-68c6-4d4e-a980-a0e14cdce728",
        "colab": {
          "base_uri": "https://localhost:8080/",
          "height": 206
        }
      },
      "outputs": [
        {
          "output_type": "execute_result",
          "data": {
            "text/plain": [
              "  alert   mag magType                  place           time  \\\n",
              "0   NaN  1.35      ml  9km NE of Aguanga, CA  1539475168010   \n",
              "1   NaN  1.29      ml  9km NE of Aguanga, CA  1539475129610   \n",
              "2   NaN  3.42      ml  8km NE of Aguanga, CA  1539475062610   \n",
              "3   NaN  0.44      ml  9km NE of Aguanga, CA  1539474978070   \n",
              "4   NaN  2.16      md  10km NW of Avenal, CA  1539474716050   \n",
              "\n",
              "                           title  tsunami    source  mag_negative  \n",
              "0  M 1.4 - 9km NE of Aguanga, CA        0  USGS API         False  \n",
              "1  M 1.3 - 9km NE of Aguanga, CA        0  USGS API         False  \n",
              "2  M 3.4 - 8km NE of Aguanga, CA        0  USGS API         False  \n",
              "3  M 0.4 - 9km NE of Aguanga, CA        0  USGS API         False  \n",
              "4  M 2.2 - 10km NW of Avenal, CA        0  USGS API         False  "
            ],
            "text/html": [
              "\n",
              "  <div id=\"df-bb78eeb8-db78-4457-9382-a7b3eb01259b\" class=\"colab-df-container\">\n",
              "    <div>\n",
              "<style scoped>\n",
              "    .dataframe tbody tr th:only-of-type {\n",
              "        vertical-align: middle;\n",
              "    }\n",
              "\n",
              "    .dataframe tbody tr th {\n",
              "        vertical-align: top;\n",
              "    }\n",
              "\n",
              "    .dataframe thead th {\n",
              "        text-align: right;\n",
              "    }\n",
              "</style>\n",
              "<table border=\"1\" class=\"dataframe\">\n",
              "  <thead>\n",
              "    <tr style=\"text-align: right;\">\n",
              "      <th></th>\n",
              "      <th>alert</th>\n",
              "      <th>mag</th>\n",
              "      <th>magType</th>\n",
              "      <th>place</th>\n",
              "      <th>time</th>\n",
              "      <th>title</th>\n",
              "      <th>tsunami</th>\n",
              "      <th>source</th>\n",
              "      <th>mag_negative</th>\n",
              "    </tr>\n",
              "  </thead>\n",
              "  <tbody>\n",
              "    <tr>\n",
              "      <th>0</th>\n",
              "      <td>NaN</td>\n",
              "      <td>1.35</td>\n",
              "      <td>ml</td>\n",
              "      <td>9km NE of Aguanga, CA</td>\n",
              "      <td>1539475168010</td>\n",
              "      <td>M 1.4 - 9km NE of Aguanga, CA</td>\n",
              "      <td>0</td>\n",
              "      <td>USGS API</td>\n",
              "      <td>False</td>\n",
              "    </tr>\n",
              "    <tr>\n",
              "      <th>1</th>\n",
              "      <td>NaN</td>\n",
              "      <td>1.29</td>\n",
              "      <td>ml</td>\n",
              "      <td>9km NE of Aguanga, CA</td>\n",
              "      <td>1539475129610</td>\n",
              "      <td>M 1.3 - 9km NE of Aguanga, CA</td>\n",
              "      <td>0</td>\n",
              "      <td>USGS API</td>\n",
              "      <td>False</td>\n",
              "    </tr>\n",
              "    <tr>\n",
              "      <th>2</th>\n",
              "      <td>NaN</td>\n",
              "      <td>3.42</td>\n",
              "      <td>ml</td>\n",
              "      <td>8km NE of Aguanga, CA</td>\n",
              "      <td>1539475062610</td>\n",
              "      <td>M 3.4 - 8km NE of Aguanga, CA</td>\n",
              "      <td>0</td>\n",
              "      <td>USGS API</td>\n",
              "      <td>False</td>\n",
              "    </tr>\n",
              "    <tr>\n",
              "      <th>3</th>\n",
              "      <td>NaN</td>\n",
              "      <td>0.44</td>\n",
              "      <td>ml</td>\n",
              "      <td>9km NE of Aguanga, CA</td>\n",
              "      <td>1539474978070</td>\n",
              "      <td>M 0.4 - 9km NE of Aguanga, CA</td>\n",
              "      <td>0</td>\n",
              "      <td>USGS API</td>\n",
              "      <td>False</td>\n",
              "    </tr>\n",
              "    <tr>\n",
              "      <th>4</th>\n",
              "      <td>NaN</td>\n",
              "      <td>2.16</td>\n",
              "      <td>md</td>\n",
              "      <td>10km NW of Avenal, CA</td>\n",
              "      <td>1539474716050</td>\n",
              "      <td>M 2.2 - 10km NW of Avenal, CA</td>\n",
              "      <td>0</td>\n",
              "      <td>USGS API</td>\n",
              "      <td>False</td>\n",
              "    </tr>\n",
              "  </tbody>\n",
              "</table>\n",
              "</div>\n",
              "    <div class=\"colab-df-buttons\">\n",
              "\n",
              "  <div class=\"colab-df-container\">\n",
              "    <button class=\"colab-df-convert\" onclick=\"convertToInteractive('df-bb78eeb8-db78-4457-9382-a7b3eb01259b')\"\n",
              "            title=\"Convert this dataframe to an interactive table.\"\n",
              "            style=\"display:none;\">\n",
              "\n",
              "  <svg xmlns=\"http://www.w3.org/2000/svg\" height=\"24px\" viewBox=\"0 -960 960 960\">\n",
              "    <path d=\"M120-120v-720h720v720H120Zm60-500h600v-160H180v160Zm220 220h160v-160H400v160Zm0 220h160v-160H400v160ZM180-400h160v-160H180v160Zm440 0h160v-160H620v160ZM180-180h160v-160H180v160Zm440 0h160v-160H620v160Z\"/>\n",
              "  </svg>\n",
              "    </button>\n",
              "\n",
              "  <style>\n",
              "    .colab-df-container {\n",
              "      display:flex;\n",
              "      gap: 12px;\n",
              "    }\n",
              "\n",
              "    .colab-df-convert {\n",
              "      background-color: #E8F0FE;\n",
              "      border: none;\n",
              "      border-radius: 50%;\n",
              "      cursor: pointer;\n",
              "      display: none;\n",
              "      fill: #1967D2;\n",
              "      height: 32px;\n",
              "      padding: 0 0 0 0;\n",
              "      width: 32px;\n",
              "    }\n",
              "\n",
              "    .colab-df-convert:hover {\n",
              "      background-color: #E2EBFA;\n",
              "      box-shadow: 0px 1px 2px rgba(60, 64, 67, 0.3), 0px 1px 3px 1px rgba(60, 64, 67, 0.15);\n",
              "      fill: #174EA6;\n",
              "    }\n",
              "\n",
              "    .colab-df-buttons div {\n",
              "      margin-bottom: 4px;\n",
              "    }\n",
              "\n",
              "    [theme=dark] .colab-df-convert {\n",
              "      background-color: #3B4455;\n",
              "      fill: #D2E3FC;\n",
              "    }\n",
              "\n",
              "    [theme=dark] .colab-df-convert:hover {\n",
              "      background-color: #434B5C;\n",
              "      box-shadow: 0px 1px 3px 1px rgba(0, 0, 0, 0.15);\n",
              "      filter: drop-shadow(0px 1px 2px rgba(0, 0, 0, 0.3));\n",
              "      fill: #FFFFFF;\n",
              "    }\n",
              "  </style>\n",
              "\n",
              "    <script>\n",
              "      const buttonEl =\n",
              "        document.querySelector('#df-bb78eeb8-db78-4457-9382-a7b3eb01259b button.colab-df-convert');\n",
              "      buttonEl.style.display =\n",
              "        google.colab.kernel.accessAllowed ? 'block' : 'none';\n",
              "\n",
              "      async function convertToInteractive(key) {\n",
              "        const element = document.querySelector('#df-bb78eeb8-db78-4457-9382-a7b3eb01259b');\n",
              "        const dataTable =\n",
              "          await google.colab.kernel.invokeFunction('convertToInteractive',\n",
              "                                                    [key], {});\n",
              "        if (!dataTable) return;\n",
              "\n",
              "        const docLinkHtml = 'Like what you see? Visit the ' +\n",
              "          '<a target=\"_blank\" href=https://colab.research.google.com/notebooks/data_table.ipynb>data table notebook</a>'\n",
              "          + ' to learn more about interactive tables.';\n",
              "        element.innerHTML = '';\n",
              "        dataTable['output_type'] = 'display_data';\n",
              "        await google.colab.output.renderOutput(dataTable, element);\n",
              "        const docLink = document.createElement('div');\n",
              "        docLink.innerHTML = docLinkHtml;\n",
              "        element.appendChild(docLink);\n",
              "      }\n",
              "    </script>\n",
              "  </div>\n",
              "\n",
              "\n",
              "<div id=\"df-8aa9272b-6106-4f1b-9163-6674eda8f344\">\n",
              "  <button class=\"colab-df-quickchart\" onclick=\"quickchart('df-8aa9272b-6106-4f1b-9163-6674eda8f344')\"\n",
              "            title=\"Suggest charts.\"\n",
              "            style=\"display:none;\">\n",
              "\n",
              "<svg xmlns=\"http://www.w3.org/2000/svg\" height=\"24px\"viewBox=\"0 0 24 24\"\n",
              "     width=\"24px\">\n",
              "    <g>\n",
              "        <path d=\"M19 3H5c-1.1 0-2 .9-2 2v14c0 1.1.9 2 2 2h14c1.1 0 2-.9 2-2V5c0-1.1-.9-2-2-2zM9 17H7v-7h2v7zm4 0h-2V7h2v10zm4 0h-2v-4h2v4z\"/>\n",
              "    </g>\n",
              "</svg>\n",
              "  </button>\n",
              "\n",
              "<style>\n",
              "  .colab-df-quickchart {\n",
              "      --bg-color: #E8F0FE;\n",
              "      --fill-color: #1967D2;\n",
              "      --hover-bg-color: #E2EBFA;\n",
              "      --hover-fill-color: #174EA6;\n",
              "      --disabled-fill-color: #AAA;\n",
              "      --disabled-bg-color: #DDD;\n",
              "  }\n",
              "\n",
              "  [theme=dark] .colab-df-quickchart {\n",
              "      --bg-color: #3B4455;\n",
              "      --fill-color: #D2E3FC;\n",
              "      --hover-bg-color: #434B5C;\n",
              "      --hover-fill-color: #FFFFFF;\n",
              "      --disabled-bg-color: #3B4455;\n",
              "      --disabled-fill-color: #666;\n",
              "  }\n",
              "\n",
              "  .colab-df-quickchart {\n",
              "    background-color: var(--bg-color);\n",
              "    border: none;\n",
              "    border-radius: 50%;\n",
              "    cursor: pointer;\n",
              "    display: none;\n",
              "    fill: var(--fill-color);\n",
              "    height: 32px;\n",
              "    padding: 0;\n",
              "    width: 32px;\n",
              "  }\n",
              "\n",
              "  .colab-df-quickchart:hover {\n",
              "    background-color: var(--hover-bg-color);\n",
              "    box-shadow: 0 1px 2px rgba(60, 64, 67, 0.3), 0 1px 3px 1px rgba(60, 64, 67, 0.15);\n",
              "    fill: var(--button-hover-fill-color);\n",
              "  }\n",
              "\n",
              "  .colab-df-quickchart-complete:disabled,\n",
              "  .colab-df-quickchart-complete:disabled:hover {\n",
              "    background-color: var(--disabled-bg-color);\n",
              "    fill: var(--disabled-fill-color);\n",
              "    box-shadow: none;\n",
              "  }\n",
              "\n",
              "  .colab-df-spinner {\n",
              "    border: 2px solid var(--fill-color);\n",
              "    border-color: transparent;\n",
              "    border-bottom-color: var(--fill-color);\n",
              "    animation:\n",
              "      spin 1s steps(1) infinite;\n",
              "  }\n",
              "\n",
              "  @keyframes spin {\n",
              "    0% {\n",
              "      border-color: transparent;\n",
              "      border-bottom-color: var(--fill-color);\n",
              "      border-left-color: var(--fill-color);\n",
              "    }\n",
              "    20% {\n",
              "      border-color: transparent;\n",
              "      border-left-color: var(--fill-color);\n",
              "      border-top-color: var(--fill-color);\n",
              "    }\n",
              "    30% {\n",
              "      border-color: transparent;\n",
              "      border-left-color: var(--fill-color);\n",
              "      border-top-color: var(--fill-color);\n",
              "      border-right-color: var(--fill-color);\n",
              "    }\n",
              "    40% {\n",
              "      border-color: transparent;\n",
              "      border-right-color: var(--fill-color);\n",
              "      border-top-color: var(--fill-color);\n",
              "    }\n",
              "    60% {\n",
              "      border-color: transparent;\n",
              "      border-right-color: var(--fill-color);\n",
              "    }\n",
              "    80% {\n",
              "      border-color: transparent;\n",
              "      border-right-color: var(--fill-color);\n",
              "      border-bottom-color: var(--fill-color);\n",
              "    }\n",
              "    90% {\n",
              "      border-color: transparent;\n",
              "      border-bottom-color: var(--fill-color);\n",
              "    }\n",
              "  }\n",
              "</style>\n",
              "\n",
              "  <script>\n",
              "    async function quickchart(key) {\n",
              "      const quickchartButtonEl =\n",
              "        document.querySelector('#' + key + ' button');\n",
              "      quickchartButtonEl.disabled = true;  // To prevent multiple clicks.\n",
              "      quickchartButtonEl.classList.add('colab-df-spinner');\n",
              "      try {\n",
              "        const charts = await google.colab.kernel.invokeFunction(\n",
              "            'suggestCharts', [key], {});\n",
              "      } catch (error) {\n",
              "        console.error('Error during call to suggestCharts:', error);\n",
              "      }\n",
              "      quickchartButtonEl.classList.remove('colab-df-spinner');\n",
              "      quickchartButtonEl.classList.add('colab-df-quickchart-complete');\n",
              "    }\n",
              "    (() => {\n",
              "      let quickchartButtonEl =\n",
              "        document.querySelector('#df-8aa9272b-6106-4f1b-9163-6674eda8f344 button');\n",
              "      quickchartButtonEl.style.display =\n",
              "        google.colab.kernel.accessAllowed ? 'block' : 'none';\n",
              "    })();\n",
              "  </script>\n",
              "</div>\n",
              "    </div>\n",
              "  </div>\n"
            ]
          },
          "metadata": {},
          "execution_count": 5
        }
      ],
      "source": [
        "df['mag_negative'] = df.mag < 0\n",
        "df.head()"
      ]
    },
    {
      "cell_type": "markdown",
      "metadata": {
        "id": "tcVU9jfJEA7G"
      },
      "source": [
        "#### Adding the `parsed_place` column\n",
        "We have an entity recognition problem on our hands with the `place` column. There are several entities that have multiple names in the data (e.g., CA and California, NV and Nevada)."
      ]
    },
    {
      "cell_type": "code",
      "execution_count": null,
      "metadata": {
        "id": "7uP-Z2QdEA7H",
        "outputId": "18694e1d-b769-4677-f088-7db4af01565e"
      },
      "outputs": [
        {
          "data": {
            "text/plain": [
              "array(['Afghanistan', 'Alaska', 'Argentina', 'Arizona', 'Arkansas',\n",
              "       'Australia', 'Azerbaijan', 'B.C., MX', 'Barbuda', 'Bolivia',\n",
              "       'Bonaire, Saint Eustatius and Saba ', 'British Virgin Islands',\n",
              "       'Burma', 'CA', 'California', 'Canada', 'Chile', 'China',\n",
              "       'Christmas Island', 'Colombia', 'Colorado', 'Costa Rica',\n",
              "       'Dominican Republic', 'East Timor', 'Ecuador', 'Ecuador region',\n",
              "       'El Salvador', 'Fiji', 'Greece', 'Greenland', 'Guam', 'Guatemala',\n",
              "       'Haiti', 'Hawaii', 'Honduras', 'Idaho', 'Illinois', 'India',\n",
              "       'Indonesia', 'Iran', 'Iraq', 'Italy', 'Jamaica', 'Japan', 'Kansas',\n",
              "       'Kentucky', 'Kyrgyzstan', 'Martinique', 'Mauritius', 'Mayotte',\n",
              "       'Mexico', 'Missouri', 'Montana', 'NV', 'Nevada', 'New Caledonia',\n",
              "       'New Hampshire', 'New Mexico', 'New Zealand', 'Nicaragua',\n",
              "       'North Carolina', 'Northern Mariana Islands', 'Oklahoma', 'Oregon',\n",
              "       'Pakistan', 'Papua New Guinea', 'Peru', 'Philippines',\n",
              "       'Puerto Rico', 'Romania', 'Russia', 'Saint Helena',\n",
              "       'Solomon Islands', 'Somalia', 'South Africa', 'South Carolina',\n",
              "       'South Georgia and the South Sandwich Islands',\n",
              "       'South Sandwich Islands', 'Taiwan', 'Tajikistan', 'Tennessee',\n",
              "       'Texas', 'Tonga', 'Turkey', 'U.S. Virgin Islands', 'Utah',\n",
              "       'Uzbekistan', 'Vanuatu', 'Vermont', 'Washington', 'Wyoming',\n",
              "       'Yemen', nan], dtype=object)"
            ]
          },
          "execution_count": 4,
          "metadata": {},
          "output_type": "execute_result"
        }
      ],
      "source": [
        "# str.extract : 문자열 추출\n",
        "# r', (.*$)' : 쉼표 + 공백 이후에 나오는 모든 문자열 추출\n",
        "# .* : 임의 문자열 ( . : 임의의 문자 하나(공백 포함), * : 바로 앞에 있는 패턴이 0회 이상 반복됨)\n",
        "# $ : 문자열의 끝 , a$ : a로 끝나는 문자\n",
        "df.place.str.extract(r', (.*$)')[0].sort_values().unique()"
      ]
    },
    {
      "cell_type": "markdown",
      "metadata": {
        "id": "80BO_hkrEA7I"
      },
      "source": [
        "Replace parts of the `place` names to fit our needs:"
      ]
    },
    {
      "cell_type": "code",
      "source": [
        "df.place"
      ],
      "metadata": {
        "id": "mUZv29rJgf75",
        "outputId": "f4d633a4-bae0-40a7-ad9b-caab29d9ae23",
        "colab": {
          "base_uri": "https://localhost:8080/"
        }
      },
      "execution_count": 6,
      "outputs": [
        {
          "output_type": "execute_result",
          "data": {
            "text/plain": [
              "0                  9km NE of Aguanga, CA\n",
              "1                  9km NE of Aguanga, CA\n",
              "2                  8km NE of Aguanga, CA\n",
              "3                  9km NE of Aguanga, CA\n",
              "4                  10km NW of Avenal, CA\n",
              "                      ...               \n",
              "9327        9km ENE of Mammoth Lakes, CA\n",
              "9328                 3km W of Julian, CA\n",
              "9329    35km NNE of Hatillo, Puerto Rico\n",
              "9330               9km NE of Aguanga, CA\n",
              "9331               9km NE of Aguanga, CA\n",
              "Name: place, Length: 9332, dtype: object"
            ]
          },
          "metadata": {},
          "execution_count": 6
        }
      ]
    },
    {
      "cell_type": "code",
      "execution_count": 7,
      "metadata": {
        "id": "MnwjPcZREA7I"
      },
      "outputs": [],
      "source": [
        "# str.replace(정규표현식, '', regex=True) : 정규표현식 써서 공백으로 바꾸기\n",
        "\n",
        "df['parsed_place'] = df.place.str.replace(\n",
        "    r'.* of ', '', regex=True               # (문자열)(공백)of(공백) 형태는 제거\n",
        ").str.replace(\n",
        "    'the ', ''                              # remove \"the \"\n",
        ").str.replace(\n",
        "    r'CA$', 'California', regex=True        # CA로 끝나는 문자 California로\n",
        ").str.replace(\n",
        "    r'NV$', 'Nevada', regex=True            # NV로 끝나는 문자 Nevada로\n",
        ").str.replace(\n",
        "    r'MX$', 'Mexico', regex=True            # MX로 끝나는 문자 Mexico로\n",
        ").str.replace(\n",
        "    r' region$', '', regex=True             # region으로 끝나는 문자 제거\n",
        ").str.replace(\n",
        "    'northern ', ''                         # remove \"northern \"\n",
        ").str.replace(\n",
        "    'Fiji Islands', 'Fiji'                  # Fifi Islands 를 Fiji로\n",
        ").str.replace(\n",
        "    r'^.*, ', '', regex=True                # .(임의의 문자)로 시작하고 , 뒤에 공백이 있는 형태는 제거\n",
        ").str.strip()                               # 문자열 양쪽의 공백 제거"
      ]
    },
    {
      "cell_type": "markdown",
      "metadata": {
        "id": "P1STO123EA7J"
      },
      "source": [
        "Now we can use a single name to get all earthquakes for that place (although this still isn't perfect):"
      ]
    },
    {
      "cell_type": "code",
      "execution_count": 8,
      "metadata": {
        "id": "lbxcvqSnEA7J",
        "outputId": "a9fe2017-7a63-400a-e941-5935afb581cb",
        "colab": {
          "base_uri": "https://localhost:8080/"
        }
      },
      "outputs": [
        {
          "output_type": "execute_result",
          "data": {
            "text/plain": [
              "array(['Afghanistan', 'Alaska', 'Argentina', 'Arizona', 'Arkansas',\n",
              "       'Ascension Island', 'Australia', 'Azerbaijan', 'Balleny Islands',\n",
              "       'Barbuda', 'Bolivia', 'British Virgin Islands', 'Burma',\n",
              "       'California', 'Canada', 'Carlsberg Ridge',\n",
              "       'Central East Pacific Rise', 'Central Mid-Atlantic Ridge', 'Chile',\n",
              "       'China', 'Christmas Island', 'Colombia', 'Colorado', 'Costa Rica',\n",
              "       'Dominican Republic', 'East Timor', 'Ecuador', 'El Salvador',\n",
              "       'Fiji', 'Greece', 'Greenland', 'Guam', 'Guatemala', 'Haiti',\n",
              "       'Hawaii', 'Honduras', 'Idaho', 'Illinois', 'India',\n",
              "       'Indian Ocean Triple Junction', 'Indonesia', 'Iran', 'Iraq',\n",
              "       'Italy', 'Jamaica', 'Japan', 'Kansas', 'Kentucky',\n",
              "       'Kermadec Islands', 'Kuril Islands', 'Kyrgyzstan', 'Martinique',\n",
              "       'Mauritius', 'Mayotte', 'Mexico', 'Mid-Indian Ridge', 'Missouri',\n",
              "       'Montana', 'Nevada', 'New Caledonia', 'New Hampshire',\n",
              "       'New Mexico', 'New Zealand', 'Nicaragua', 'North Carolina',\n",
              "       'Northern East Pacific Rise', 'Northern Mariana Islands',\n",
              "       'Northern Mid-Atlantic Ridge', 'Oklahoma', 'Oregon',\n",
              "       'Pacific-Antarctic Ridge', 'Pakistan', 'Papua New Guinea', 'Peru',\n",
              "       'Philippines', 'Prince Edward Islands', 'Puerto Rico',\n",
              "       'Queen Charlotte Islands', 'Romania', 'Russia',\n",
              "       'Saint Eustatius and Saba', 'Saint Helena', 'Socotra',\n",
              "       'Solomon Islands', 'Somalia', 'South Africa', 'South Carolina',\n",
              "       'South Georgia and South Sandwich Islands',\n",
              "       'South Sandwich Islands', 'Southeast Indian Ridge',\n",
              "       'Southern East Pacific Rise', 'Southern Mid-Atlantic Ridge',\n",
              "       'Southwest Indian Ridge', 'Sumatra', 'Taiwan', 'Tajikistan',\n",
              "       'Tennessee', 'Texas', 'Tonga', 'Turkey', 'U.S. Virgin Islands',\n",
              "       'Utah', 'Uzbekistan', 'Vanuatu', 'Vermont', 'Washington',\n",
              "       'Western Indian-Antarctic Ridge', 'Western Xizang', 'Wyoming',\n",
              "       'Yemen'], dtype=object)"
            ]
          },
          "metadata": {},
          "execution_count": 8
        }
      ],
      "source": [
        "df.parsed_place.sort_values().unique()"
      ]
    },
    {
      "cell_type": "markdown",
      "metadata": {
        "id": "ztm2J3VfEA7K"
      },
      "source": [
        "#### Using the `assign()` method to create columns\n",
        "To create many columns at once or update existing columns, we can use `assign()`:"
      ]
    },
    {
      "cell_type": "code",
      "execution_count": null,
      "metadata": {
        "id": "x4yhE3uXEA7K",
        "outputId": "709006e0-0481-41c3-9c5c-51d45d6dae67"
      },
      "outputs": [
        {
          "data": {
            "text/html": [
              "<div>\n",
              "<style scoped>\n",
              "    .dataframe tbody tr th:only-of-type {\n",
              "        vertical-align: middle;\n",
              "    }\n",
              "\n",
              "    .dataframe tbody tr th {\n",
              "        vertical-align: top;\n",
              "    }\n",
              "\n",
              "    .dataframe thead th {\n",
              "        text-align: right;\n",
              "    }\n",
              "</style>\n",
              "<table border=\"1\" class=\"dataframe\">\n",
              "  <thead>\n",
              "    <tr style=\"text-align: right;\">\n",
              "      <th></th>\n",
              "      <th>alert</th>\n",
              "      <th>mag</th>\n",
              "      <th>magType</th>\n",
              "      <th>place</th>\n",
              "      <th>time</th>\n",
              "      <th>title</th>\n",
              "      <th>tsunami</th>\n",
              "      <th>source</th>\n",
              "      <th>mag_negative</th>\n",
              "      <th>parsed_place</th>\n",
              "      <th>in_ca</th>\n",
              "      <th>in_alaska</th>\n",
              "    </tr>\n",
              "  </thead>\n",
              "  <tbody>\n",
              "    <tr>\n",
              "      <th>7207</th>\n",
              "      <td>NaN</td>\n",
              "      <td>4.80</td>\n",
              "      <td>mwr</td>\n",
              "      <td>73km SSW of Masachapa, Nicaragua</td>\n",
              "      <td>1537749595210</td>\n",
              "      <td>M 4.8 - 73km SSW of Masachapa, Nicaragua</td>\n",
              "      <td>0</td>\n",
              "      <td>USGS API</td>\n",
              "      <td>False</td>\n",
              "      <td>Nicaragua</td>\n",
              "      <td>False</td>\n",
              "      <td>False</td>\n",
              "    </tr>\n",
              "    <tr>\n",
              "      <th>4755</th>\n",
              "      <td>NaN</td>\n",
              "      <td>1.09</td>\n",
              "      <td>ml</td>\n",
              "      <td>28km NNW of Packwood, Washington</td>\n",
              "      <td>1538227540460</td>\n",
              "      <td>M 1.1 - 28km NNW of Packwood, Washington</td>\n",
              "      <td>0</td>\n",
              "      <td>USGS API</td>\n",
              "      <td>False</td>\n",
              "      <td>Washington</td>\n",
              "      <td>False</td>\n",
              "      <td>False</td>\n",
              "    </tr>\n",
              "    <tr>\n",
              "      <th>4595</th>\n",
              "      <td>NaN</td>\n",
              "      <td>1.80</td>\n",
              "      <td>ml</td>\n",
              "      <td>77km SSW of Kaktovik, Alaska</td>\n",
              "      <td>1538259609862</td>\n",
              "      <td>M 1.8 - 77km SSW of Kaktovik, Alaska</td>\n",
              "      <td>0</td>\n",
              "      <td>USGS API</td>\n",
              "      <td>False</td>\n",
              "      <td>Alaska</td>\n",
              "      <td>False</td>\n",
              "      <td>True</td>\n",
              "    </tr>\n",
              "    <tr>\n",
              "      <th>3566</th>\n",
              "      <td>NaN</td>\n",
              "      <td>1.50</td>\n",
              "      <td>ml</td>\n",
              "      <td>102km NW of Arctic Village, Alaska</td>\n",
              "      <td>1538464751822</td>\n",
              "      <td>M 1.5 - 102km NW of Arctic Village, Alaska</td>\n",
              "      <td>0</td>\n",
              "      <td>USGS API</td>\n",
              "      <td>False</td>\n",
              "      <td>Alaska</td>\n",
              "      <td>False</td>\n",
              "      <td>True</td>\n",
              "    </tr>\n",
              "    <tr>\n",
              "      <th>2182</th>\n",
              "      <td>NaN</td>\n",
              "      <td>0.90</td>\n",
              "      <td>ml</td>\n",
              "      <td>26km ENE of Pine Valley, CA</td>\n",
              "      <td>1538801713880</td>\n",
              "      <td>M 0.9 - 26km ENE of Pine Valley, CA</td>\n",
              "      <td>0</td>\n",
              "      <td>USGS API</td>\n",
              "      <td>False</td>\n",
              "      <td>California</td>\n",
              "      <td>True</td>\n",
              "      <td>False</td>\n",
              "    </tr>\n",
              "  </tbody>\n",
              "</table>\n",
              "</div>"
            ],
            "text/plain": [
              "     alert   mag magType                               place           time  \\\n",
              "7207   NaN  4.80     mwr    73km SSW of Masachapa, Nicaragua  1537749595210   \n",
              "4755   NaN  1.09      ml    28km NNW of Packwood, Washington  1538227540460   \n",
              "4595   NaN  1.80      ml        77km SSW of Kaktovik, Alaska  1538259609862   \n",
              "3566   NaN  1.50      ml  102km NW of Arctic Village, Alaska  1538464751822   \n",
              "2182   NaN  0.90      ml         26km ENE of Pine Valley, CA  1538801713880   \n",
              "\n",
              "                                           title  tsunami    source  \\\n",
              "7207    M 4.8 - 73km SSW of Masachapa, Nicaragua        0  USGS API   \n",
              "4755    M 1.1 - 28km NNW of Packwood, Washington        0  USGS API   \n",
              "4595        M 1.8 - 77km SSW of Kaktovik, Alaska        0  USGS API   \n",
              "3566  M 1.5 - 102km NW of Arctic Village, Alaska        0  USGS API   \n",
              "2182         M 0.9 - 26km ENE of Pine Valley, CA        0  USGS API   \n",
              "\n",
              "      mag_negative parsed_place  in_ca  in_alaska  \n",
              "7207         False    Nicaragua  False      False  \n",
              "4755         False   Washington  False      False  \n",
              "4595         False       Alaska  False       True  \n",
              "3566         False       Alaska  False       True  \n",
              "2182         False   California   True      False  "
            ]
          },
          "execution_count": 7,
          "metadata": {},
          "output_type": "execute_result"
        }
      ],
      "source": [
        "df.assign(\n",
        "    in_ca=df.parsed_place.str.endswith('California'),\n",
        "    in_alaska=df.parsed_place.str.endswith('Alaska')\n",
        ").sample(5, random_state=0)"
      ]
    },
    {
      "cell_type": "markdown",
      "metadata": {
        "id": "jzUUd4oJEA7L"
      },
      "source": [
        "With the use of `lambda` functions, the `assign()` method becomes even more powerful. **Lambda functions** are anonymous functions usually defined in one line and for single use. The `assign()` method passes the entire dataframe into the `lambda` function as `x`; from there, we can select the columns `in_ca` and `in_alaska`, which are being created in that same call to `assign()`. Here, we use a `lambda` function to create a new column, `neither`, which tells if the earthquake was neither in Alaska nor California:"
      ]
    },
    {
      "cell_type": "code",
      "execution_count": null,
      "metadata": {
        "id": "cvmtvbJFEA7M",
        "outputId": "a8b704a0-a3c9-4151-bac1-6023b082160c"
      },
      "outputs": [
        {
          "data": {
            "text/html": [
              "<div>\n",
              "<style scoped>\n",
              "    .dataframe tbody tr th:only-of-type {\n",
              "        vertical-align: middle;\n",
              "    }\n",
              "\n",
              "    .dataframe tbody tr th {\n",
              "        vertical-align: top;\n",
              "    }\n",
              "\n",
              "    .dataframe thead th {\n",
              "        text-align: right;\n",
              "    }\n",
              "</style>\n",
              "<table border=\"1\" class=\"dataframe\">\n",
              "  <thead>\n",
              "    <tr style=\"text-align: right;\">\n",
              "      <th></th>\n",
              "      <th>alert</th>\n",
              "      <th>mag</th>\n",
              "      <th>magType</th>\n",
              "      <th>place</th>\n",
              "      <th>time</th>\n",
              "      <th>title</th>\n",
              "      <th>tsunami</th>\n",
              "      <th>source</th>\n",
              "      <th>mag_negative</th>\n",
              "      <th>parsed_place</th>\n",
              "      <th>in_ca</th>\n",
              "      <th>in_alaska</th>\n",
              "      <th>neither</th>\n",
              "    </tr>\n",
              "  </thead>\n",
              "  <tbody>\n",
              "    <tr>\n",
              "      <th>7207</th>\n",
              "      <td>NaN</td>\n",
              "      <td>4.80</td>\n",
              "      <td>mwr</td>\n",
              "      <td>73km SSW of Masachapa, Nicaragua</td>\n",
              "      <td>1537749595210</td>\n",
              "      <td>M 4.8 - 73km SSW of Masachapa, Nicaragua</td>\n",
              "      <td>0</td>\n",
              "      <td>USGS API</td>\n",
              "      <td>False</td>\n",
              "      <td>Nicaragua</td>\n",
              "      <td>False</td>\n",
              "      <td>False</td>\n",
              "      <td>True</td>\n",
              "    </tr>\n",
              "    <tr>\n",
              "      <th>4755</th>\n",
              "      <td>NaN</td>\n",
              "      <td>1.09</td>\n",
              "      <td>ml</td>\n",
              "      <td>28km NNW of Packwood, Washington</td>\n",
              "      <td>1538227540460</td>\n",
              "      <td>M 1.1 - 28km NNW of Packwood, Washington</td>\n",
              "      <td>0</td>\n",
              "      <td>USGS API</td>\n",
              "      <td>False</td>\n",
              "      <td>Washington</td>\n",
              "      <td>False</td>\n",
              "      <td>False</td>\n",
              "      <td>True</td>\n",
              "    </tr>\n",
              "    <tr>\n",
              "      <th>4595</th>\n",
              "      <td>NaN</td>\n",
              "      <td>1.80</td>\n",
              "      <td>ml</td>\n",
              "      <td>77km SSW of Kaktovik, Alaska</td>\n",
              "      <td>1538259609862</td>\n",
              "      <td>M 1.8 - 77km SSW of Kaktovik, Alaska</td>\n",
              "      <td>0</td>\n",
              "      <td>USGS API</td>\n",
              "      <td>False</td>\n",
              "      <td>Alaska</td>\n",
              "      <td>False</td>\n",
              "      <td>True</td>\n",
              "      <td>False</td>\n",
              "    </tr>\n",
              "    <tr>\n",
              "      <th>3566</th>\n",
              "      <td>NaN</td>\n",
              "      <td>1.50</td>\n",
              "      <td>ml</td>\n",
              "      <td>102km NW of Arctic Village, Alaska</td>\n",
              "      <td>1538464751822</td>\n",
              "      <td>M 1.5 - 102km NW of Arctic Village, Alaska</td>\n",
              "      <td>0</td>\n",
              "      <td>USGS API</td>\n",
              "      <td>False</td>\n",
              "      <td>Alaska</td>\n",
              "      <td>False</td>\n",
              "      <td>True</td>\n",
              "      <td>False</td>\n",
              "    </tr>\n",
              "    <tr>\n",
              "      <th>2182</th>\n",
              "      <td>NaN</td>\n",
              "      <td>0.90</td>\n",
              "      <td>ml</td>\n",
              "      <td>26km ENE of Pine Valley, CA</td>\n",
              "      <td>1538801713880</td>\n",
              "      <td>M 0.9 - 26km ENE of Pine Valley, CA</td>\n",
              "      <td>0</td>\n",
              "      <td>USGS API</td>\n",
              "      <td>False</td>\n",
              "      <td>California</td>\n",
              "      <td>True</td>\n",
              "      <td>False</td>\n",
              "      <td>False</td>\n",
              "    </tr>\n",
              "  </tbody>\n",
              "</table>\n",
              "</div>"
            ],
            "text/plain": [
              "     alert   mag magType                               place           time  \\\n",
              "7207   NaN  4.80     mwr    73km SSW of Masachapa, Nicaragua  1537749595210   \n",
              "4755   NaN  1.09      ml    28km NNW of Packwood, Washington  1538227540460   \n",
              "4595   NaN  1.80      ml        77km SSW of Kaktovik, Alaska  1538259609862   \n",
              "3566   NaN  1.50      ml  102km NW of Arctic Village, Alaska  1538464751822   \n",
              "2182   NaN  0.90      ml         26km ENE of Pine Valley, CA  1538801713880   \n",
              "\n",
              "                                           title  tsunami    source  \\\n",
              "7207    M 4.8 - 73km SSW of Masachapa, Nicaragua        0  USGS API   \n",
              "4755    M 1.1 - 28km NNW of Packwood, Washington        0  USGS API   \n",
              "4595        M 1.8 - 77km SSW of Kaktovik, Alaska        0  USGS API   \n",
              "3566  M 1.5 - 102km NW of Arctic Village, Alaska        0  USGS API   \n",
              "2182         M 0.9 - 26km ENE of Pine Valley, CA        0  USGS API   \n",
              "\n",
              "      mag_negative parsed_place  in_ca  in_alaska  neither  \n",
              "7207         False    Nicaragua  False      False     True  \n",
              "4755         False   Washington  False      False     True  \n",
              "4595         False       Alaska  False       True    False  \n",
              "3566         False       Alaska  False       True    False  \n",
              "2182         False   California   True      False    False  "
            ]
          },
          "execution_count": 8,
          "metadata": {},
          "output_type": "execute_result"
        }
      ],
      "source": [
        "df.assign(\n",
        "    in_ca=df.parsed_place == 'California',\n",
        "    in_alaska=df.parsed_place == 'Alaska',\n",
        "    neither=lambda x: ~x.in_ca & ~x.in_alaska\n",
        ").sample(5, random_state=0)"
      ]
    },
    {
      "cell_type": "markdown",
      "metadata": {
        "id": "L67lPH3UEA7M"
      },
      "source": [
        "#### Concatenation\n",
        "Say we were working with two separate dataframes, one with earthquakes accompanied by tsunamis and the other with earthquakes without tsunamis. If we wanted to look at earthquakes as a whole, we would want to concatenate the dataframes into a single one:"
      ]
    },
    {
      "cell_type": "code",
      "execution_count": null,
      "metadata": {
        "id": "dIWmexQYEA7M",
        "outputId": "5c990edb-2fed-4eb0-f1a8-3c8e1fc170d4"
      },
      "outputs": [
        {
          "data": {
            "text/plain": [
              "((61, 10), (9271, 10))"
            ]
          },
          "execution_count": 9,
          "metadata": {},
          "output_type": "execute_result"
        }
      ],
      "source": [
        "tsunami = df[df.tsunami == 1]\n",
        "no_tsunami = df[df.tsunami == 0]\n",
        "\n",
        "tsunami.shape, no_tsunami.shape"
      ]
    },
    {
      "cell_type": "markdown",
      "metadata": {
        "id": "2u3MXfLCEA7N"
      },
      "source": [
        "Concatenating along the row axis (`axis=0`) is equivalent to appending to the bottom. By concatenating our earthquakes with tsunamis and those without tsunamis, we get the full earthquake data set back:"
      ]
    },
    {
      "cell_type": "code",
      "execution_count": null,
      "metadata": {
        "id": "eJLGBPzfEA7N",
        "outputId": "81f9a0ae-637a-4bf3-eeae-eaeaf8b7d604"
      },
      "outputs": [
        {
          "data": {
            "text/plain": [
              "(9332, 10)"
            ]
          },
          "execution_count": 10,
          "metadata": {},
          "output_type": "execute_result"
        }
      ],
      "source": [
        "pd.concat([tsunami, no_tsunami]).shape"
      ]
    },
    {
      "cell_type": "markdown",
      "metadata": {
        "id": "lq-nli6fEA7O"
      },
      "source": [
        "Note that the previous result is equivalent to running the `append()` method of the dataframe:"
      ]
    },
    {
      "cell_type": "code",
      "execution_count": null,
      "metadata": {
        "id": "6ICpG7mtEA7O",
        "outputId": "92d70521-3667-4e94-92ac-31272ec7af95"
      },
      "outputs": [
        {
          "data": {
            "text/plain": [
              "(9332, 10)"
            ]
          },
          "execution_count": 11,
          "metadata": {},
          "output_type": "execute_result"
        }
      ],
      "source": [
        "tsunami.append(no_tsunami).shape"
      ]
    },
    {
      "cell_type": "markdown",
      "metadata": {
        "id": "nNFgY5t7EA7O"
      },
      "source": [
        "We have been working with a subset of the columns from the CSV file, but suppose that now we want to get some of the columns we ignored when we read in the data. Since we have added new columns in this notebook, we won't want to read in the file and perform those operations again. Instead, we will concatenate along the columns (`axis=1`) to add back what we are missing:"
      ]
    },
    {
      "cell_type": "code",
      "execution_count": null,
      "metadata": {
        "id": "u5THPvPnEA7O",
        "outputId": "cddc1790-0f93-4d06-8825-1900f3e26be8"
      },
      "outputs": [
        {
          "data": {
            "text/html": [
              "<div>\n",
              "<style scoped>\n",
              "    .dataframe tbody tr th:only-of-type {\n",
              "        vertical-align: middle;\n",
              "    }\n",
              "\n",
              "    .dataframe tbody tr th {\n",
              "        vertical-align: top;\n",
              "    }\n",
              "\n",
              "    .dataframe thead th {\n",
              "        text-align: right;\n",
              "    }\n",
              "</style>\n",
              "<table border=\"1\" class=\"dataframe\">\n",
              "  <thead>\n",
              "    <tr style=\"text-align: right;\">\n",
              "      <th></th>\n",
              "      <th>alert</th>\n",
              "      <th>mag</th>\n",
              "      <th>magType</th>\n",
              "      <th>place</th>\n",
              "      <th>time</th>\n",
              "      <th>title</th>\n",
              "      <th>tsunami</th>\n",
              "      <th>source</th>\n",
              "      <th>mag_negative</th>\n",
              "      <th>parsed_place</th>\n",
              "      <th>felt</th>\n",
              "      <th>ids</th>\n",
              "      <th>tz</th>\n",
              "    </tr>\n",
              "  </thead>\n",
              "  <tbody>\n",
              "    <tr>\n",
              "      <th>0</th>\n",
              "      <td>NaN</td>\n",
              "      <td>1.35</td>\n",
              "      <td>ml</td>\n",
              "      <td>9km NE of Aguanga, CA</td>\n",
              "      <td>1539475168010</td>\n",
              "      <td>M 1.4 - 9km NE of Aguanga, CA</td>\n",
              "      <td>0</td>\n",
              "      <td>USGS API</td>\n",
              "      <td>False</td>\n",
              "      <td>California</td>\n",
              "      <td>NaN</td>\n",
              "      <td>,ci37389218,</td>\n",
              "      <td>-480.0</td>\n",
              "    </tr>\n",
              "    <tr>\n",
              "      <th>1</th>\n",
              "      <td>NaN</td>\n",
              "      <td>1.29</td>\n",
              "      <td>ml</td>\n",
              "      <td>9km NE of Aguanga, CA</td>\n",
              "      <td>1539475129610</td>\n",
              "      <td>M 1.3 - 9km NE of Aguanga, CA</td>\n",
              "      <td>0</td>\n",
              "      <td>USGS API</td>\n",
              "      <td>False</td>\n",
              "      <td>California</td>\n",
              "      <td>NaN</td>\n",
              "      <td>,ci37389202,</td>\n",
              "      <td>-480.0</td>\n",
              "    </tr>\n",
              "  </tbody>\n",
              "</table>\n",
              "</div>"
            ],
            "text/plain": [
              "  alert   mag magType                  place           time  \\\n",
              "0   NaN  1.35      ml  9km NE of Aguanga, CA  1539475168010   \n",
              "1   NaN  1.29      ml  9km NE of Aguanga, CA  1539475129610   \n",
              "\n",
              "                           title  tsunami    source  mag_negative  \\\n",
              "0  M 1.4 - 9km NE of Aguanga, CA        0  USGS API         False   \n",
              "1  M 1.3 - 9km NE of Aguanga, CA        0  USGS API         False   \n",
              "\n",
              "  parsed_place  felt           ids     tz  \n",
              "0   California   NaN  ,ci37389218, -480.0  \n",
              "1   California   NaN  ,ci37389202, -480.0  "
            ]
          },
          "execution_count": 12,
          "metadata": {},
          "output_type": "execute_result"
        }
      ],
      "source": [
        "additional_columns = pd.read_csv(\n",
        "    'data/earthquakes.csv', usecols=['tz', 'felt', 'ids']\n",
        ")\n",
        "pd.concat([df.head(2), additional_columns.head(2)], axis=1)"
      ]
    },
    {
      "cell_type": "markdown",
      "metadata": {
        "id": "TNgZie_bEA7P"
      },
      "source": [
        "Notice what happens if the index doesn't align though:"
      ]
    },
    {
      "cell_type": "code",
      "execution_count": null,
      "metadata": {
        "id": "bcbPExVtEA7P",
        "outputId": "c17122bc-f30b-4677-c528-ff6c3e56fce1"
      },
      "outputs": [
        {
          "data": {
            "text/html": [
              "<div>\n",
              "<style scoped>\n",
              "    .dataframe tbody tr th:only-of-type {\n",
              "        vertical-align: middle;\n",
              "    }\n",
              "\n",
              "    .dataframe tbody tr th {\n",
              "        vertical-align: top;\n",
              "    }\n",
              "\n",
              "    .dataframe thead th {\n",
              "        text-align: right;\n",
              "    }\n",
              "</style>\n",
              "<table border=\"1\" class=\"dataframe\">\n",
              "  <thead>\n",
              "    <tr style=\"text-align: right;\">\n",
              "      <th></th>\n",
              "      <th>alert</th>\n",
              "      <th>mag</th>\n",
              "      <th>magType</th>\n",
              "      <th>place</th>\n",
              "      <th>time</th>\n",
              "      <th>title</th>\n",
              "      <th>tsunami</th>\n",
              "      <th>source</th>\n",
              "      <th>mag_negative</th>\n",
              "      <th>parsed_place</th>\n",
              "      <th>felt</th>\n",
              "      <th>ids</th>\n",
              "      <th>tz</th>\n",
              "    </tr>\n",
              "  </thead>\n",
              "  <tbody>\n",
              "    <tr>\n",
              "      <th>0</th>\n",
              "      <td>NaN</td>\n",
              "      <td>1.35</td>\n",
              "      <td>ml</td>\n",
              "      <td>9km NE of Aguanga, CA</td>\n",
              "      <td>1.539475e+12</td>\n",
              "      <td>M 1.4 - 9km NE of Aguanga, CA</td>\n",
              "      <td>0.0</td>\n",
              "      <td>USGS API</td>\n",
              "      <td>False</td>\n",
              "      <td>California</td>\n",
              "      <td>NaN</td>\n",
              "      <td>NaN</td>\n",
              "      <td>NaN</td>\n",
              "    </tr>\n",
              "    <tr>\n",
              "      <th>1</th>\n",
              "      <td>NaN</td>\n",
              "      <td>1.29</td>\n",
              "      <td>ml</td>\n",
              "      <td>9km NE of Aguanga, CA</td>\n",
              "      <td>1.539475e+12</td>\n",
              "      <td>M 1.3 - 9km NE of Aguanga, CA</td>\n",
              "      <td>0.0</td>\n",
              "      <td>USGS API</td>\n",
              "      <td>False</td>\n",
              "      <td>California</td>\n",
              "      <td>NaN</td>\n",
              "      <td>NaN</td>\n",
              "      <td>NaN</td>\n",
              "    </tr>\n",
              "    <tr>\n",
              "      <th>1539475129610</th>\n",
              "      <td>NaN</td>\n",
              "      <td>NaN</td>\n",
              "      <td>NaN</td>\n",
              "      <td>NaN</td>\n",
              "      <td>NaN</td>\n",
              "      <td>NaN</td>\n",
              "      <td>NaN</td>\n",
              "      <td>NaN</td>\n",
              "      <td>NaN</td>\n",
              "      <td>NaN</td>\n",
              "      <td>NaN</td>\n",
              "      <td>,ci37389202,</td>\n",
              "      <td>-480.0</td>\n",
              "    </tr>\n",
              "    <tr>\n",
              "      <th>1539475168010</th>\n",
              "      <td>NaN</td>\n",
              "      <td>NaN</td>\n",
              "      <td>NaN</td>\n",
              "      <td>NaN</td>\n",
              "      <td>NaN</td>\n",
              "      <td>NaN</td>\n",
              "      <td>NaN</td>\n",
              "      <td>NaN</td>\n",
              "      <td>NaN</td>\n",
              "      <td>NaN</td>\n",
              "      <td>NaN</td>\n",
              "      <td>,ci37389218,</td>\n",
              "      <td>-480.0</td>\n",
              "    </tr>\n",
              "  </tbody>\n",
              "</table>\n",
              "</div>"
            ],
            "text/plain": [
              "              alert   mag magType                  place          time  \\\n",
              "0               NaN  1.35      ml  9km NE of Aguanga, CA  1.539475e+12   \n",
              "1               NaN  1.29      ml  9km NE of Aguanga, CA  1.539475e+12   \n",
              "1539475129610   NaN   NaN     NaN                    NaN           NaN   \n",
              "1539475168010   NaN   NaN     NaN                    NaN           NaN   \n",
              "\n",
              "                                       title  tsunami    source mag_negative  \\\n",
              "0              M 1.4 - 9km NE of Aguanga, CA      0.0  USGS API        False   \n",
              "1              M 1.3 - 9km NE of Aguanga, CA      0.0  USGS API        False   \n",
              "1539475129610                            NaN      NaN       NaN          NaN   \n",
              "1539475168010                            NaN      NaN       NaN          NaN   \n",
              "\n",
              "              parsed_place  felt           ids     tz  \n",
              "0               California   NaN           NaN    NaN  \n",
              "1               California   NaN           NaN    NaN  \n",
              "1539475129610          NaN   NaN  ,ci37389202, -480.0  \n",
              "1539475168010          NaN   NaN  ,ci37389218, -480.0  "
            ]
          },
          "execution_count": 13,
          "metadata": {},
          "output_type": "execute_result"
        }
      ],
      "source": [
        "additional_columns = pd.read_csv(\n",
        "    'data/earthquakes.csv', usecols=['tz', 'felt', 'ids', 'time'], index_col='time'\n",
        ")\n",
        "pd.concat([df.head(2), additional_columns.head(2)], axis=1)"
      ]
    },
    {
      "cell_type": "markdown",
      "metadata": {
        "id": "H1ZKhPs_EA7P"
      },
      "source": [
        "If the index doesn't align, we can align it before attempting the concatentation, which we will discuss in chapter 3.\n",
        "\n",
        "Say we want to join the `tsunami` and `no_tsunami` dataframes, but the `no_tsunami` dataframe has an additional column. The `join` parameter specifies how to handle any overlap in column names (when appending to the bottom) or in row names (when concatenating to the left/right). By default, this is `outer`, so we keep everything; however, if we use `inner`, we will only keep what is in common:"
      ]
    },
    {
      "cell_type": "code",
      "execution_count": null,
      "metadata": {
        "id": "NTv9kPumEA7Q",
        "outputId": "91924ae3-3da0-4e66-a114-9a754ae1fd61"
      },
      "outputs": [
        {
          "data": {
            "text/html": [
              "<div>\n",
              "<style scoped>\n",
              "    .dataframe tbody tr th:only-of-type {\n",
              "        vertical-align: middle;\n",
              "    }\n",
              "\n",
              "    .dataframe tbody tr th {\n",
              "        vertical-align: top;\n",
              "    }\n",
              "\n",
              "    .dataframe thead th {\n",
              "        text-align: right;\n",
              "    }\n",
              "</style>\n",
              "<table border=\"1\" class=\"dataframe\">\n",
              "  <thead>\n",
              "    <tr style=\"text-align: right;\">\n",
              "      <th></th>\n",
              "      <th>alert</th>\n",
              "      <th>mag</th>\n",
              "      <th>magType</th>\n",
              "      <th>place</th>\n",
              "      <th>time</th>\n",
              "      <th>title</th>\n",
              "      <th>tsunami</th>\n",
              "      <th>source</th>\n",
              "      <th>mag_negative</th>\n",
              "      <th>parsed_place</th>\n",
              "    </tr>\n",
              "  </thead>\n",
              "  <tbody>\n",
              "    <tr>\n",
              "      <th>36</th>\n",
              "      <td>NaN</td>\n",
              "      <td>5.00</td>\n",
              "      <td>mww</td>\n",
              "      <td>165km NNW of Flying Fish Cove, Christmas Island</td>\n",
              "      <td>1539459504090</td>\n",
              "      <td>M 5.0 - 165km NNW of Flying Fish Cove, Christm...</td>\n",
              "      <td>1</td>\n",
              "      <td>USGS API</td>\n",
              "      <td>False</td>\n",
              "      <td>Christmas Island</td>\n",
              "    </tr>\n",
              "    <tr>\n",
              "      <th>118</th>\n",
              "      <td>green</td>\n",
              "      <td>6.70</td>\n",
              "      <td>mww</td>\n",
              "      <td>262km NW of Ozernovskiy, Russia</td>\n",
              "      <td>1539429023560</td>\n",
              "      <td>M 6.7 - 262km NW of Ozernovskiy, Russia</td>\n",
              "      <td>1</td>\n",
              "      <td>USGS API</td>\n",
              "      <td>False</td>\n",
              "      <td>Russia</td>\n",
              "    </tr>\n",
              "    <tr>\n",
              "      <th>0</th>\n",
              "      <td>NaN</td>\n",
              "      <td>1.35</td>\n",
              "      <td>ml</td>\n",
              "      <td>9km NE of Aguanga, CA</td>\n",
              "      <td>1539475168010</td>\n",
              "      <td>M 1.4 - 9km NE of Aguanga, CA</td>\n",
              "      <td>0</td>\n",
              "      <td>USGS API</td>\n",
              "      <td>False</td>\n",
              "      <td>California</td>\n",
              "    </tr>\n",
              "    <tr>\n",
              "      <th>1</th>\n",
              "      <td>NaN</td>\n",
              "      <td>1.29</td>\n",
              "      <td>ml</td>\n",
              "      <td>9km NE of Aguanga, CA</td>\n",
              "      <td>1539475129610</td>\n",
              "      <td>M 1.3 - 9km NE of Aguanga, CA</td>\n",
              "      <td>0</td>\n",
              "      <td>USGS API</td>\n",
              "      <td>False</td>\n",
              "      <td>California</td>\n",
              "    </tr>\n",
              "  </tbody>\n",
              "</table>\n",
              "</div>"
            ],
            "text/plain": [
              "     alert   mag magType                                            place  \\\n",
              "36     NaN  5.00     mww  165km NNW of Flying Fish Cove, Christmas Island   \n",
              "118  green  6.70     mww                  262km NW of Ozernovskiy, Russia   \n",
              "0      NaN  1.35      ml                            9km NE of Aguanga, CA   \n",
              "1      NaN  1.29      ml                            9km NE of Aguanga, CA   \n",
              "\n",
              "              time                                              title  \\\n",
              "36   1539459504090  M 5.0 - 165km NNW of Flying Fish Cove, Christm...   \n",
              "118  1539429023560            M 6.7 - 262km NW of Ozernovskiy, Russia   \n",
              "0    1539475168010                      M 1.4 - 9km NE of Aguanga, CA   \n",
              "1    1539475129610                      M 1.3 - 9km NE of Aguanga, CA   \n",
              "\n",
              "     tsunami    source  mag_negative      parsed_place  \n",
              "36         1  USGS API         False  Christmas Island  \n",
              "118        1  USGS API         False            Russia  \n",
              "0          0  USGS API         False        California  \n",
              "1          0  USGS API         False        California  "
            ]
          },
          "execution_count": 14,
          "metadata": {},
          "output_type": "execute_result"
        }
      ],
      "source": [
        "pd.concat(\n",
        "    [tsunami.head(2), no_tsunami.head(2).assign(type='earthquake')], join='inner'\n",
        ")"
      ]
    },
    {
      "cell_type": "markdown",
      "metadata": {
        "id": "TuCvIMewEA7Q"
      },
      "source": [
        "In addition, we use `ignore_index`, since the index doesn't mean anything for us here. This gives us sequential values instead of what we had in the previous result:"
      ]
    },
    {
      "cell_type": "code",
      "execution_count": null,
      "metadata": {
        "id": "m5mf2tPTEA7Q",
        "outputId": "58e2381e-9482-4bbd-efdd-5481083cabbc"
      },
      "outputs": [
        {
          "data": {
            "text/html": [
              "<div>\n",
              "<style scoped>\n",
              "    .dataframe tbody tr th:only-of-type {\n",
              "        vertical-align: middle;\n",
              "    }\n",
              "\n",
              "    .dataframe tbody tr th {\n",
              "        vertical-align: top;\n",
              "    }\n",
              "\n",
              "    .dataframe thead th {\n",
              "        text-align: right;\n",
              "    }\n",
              "</style>\n",
              "<table border=\"1\" class=\"dataframe\">\n",
              "  <thead>\n",
              "    <tr style=\"text-align: right;\">\n",
              "      <th></th>\n",
              "      <th>alert</th>\n",
              "      <th>mag</th>\n",
              "      <th>magType</th>\n",
              "      <th>place</th>\n",
              "      <th>time</th>\n",
              "      <th>title</th>\n",
              "      <th>tsunami</th>\n",
              "      <th>source</th>\n",
              "      <th>mag_negative</th>\n",
              "      <th>parsed_place</th>\n",
              "    </tr>\n",
              "  </thead>\n",
              "  <tbody>\n",
              "    <tr>\n",
              "      <th>0</th>\n",
              "      <td>NaN</td>\n",
              "      <td>5.00</td>\n",
              "      <td>mww</td>\n",
              "      <td>165km NNW of Flying Fish Cove, Christmas Island</td>\n",
              "      <td>1539459504090</td>\n",
              "      <td>M 5.0 - 165km NNW of Flying Fish Cove, Christm...</td>\n",
              "      <td>1</td>\n",
              "      <td>USGS API</td>\n",
              "      <td>False</td>\n",
              "      <td>Christmas Island</td>\n",
              "    </tr>\n",
              "    <tr>\n",
              "      <th>1</th>\n",
              "      <td>green</td>\n",
              "      <td>6.70</td>\n",
              "      <td>mww</td>\n",
              "      <td>262km NW of Ozernovskiy, Russia</td>\n",
              "      <td>1539429023560</td>\n",
              "      <td>M 6.7 - 262km NW of Ozernovskiy, Russia</td>\n",
              "      <td>1</td>\n",
              "      <td>USGS API</td>\n",
              "      <td>False</td>\n",
              "      <td>Russia</td>\n",
              "    </tr>\n",
              "    <tr>\n",
              "      <th>2</th>\n",
              "      <td>NaN</td>\n",
              "      <td>1.35</td>\n",
              "      <td>ml</td>\n",
              "      <td>9km NE of Aguanga, CA</td>\n",
              "      <td>1539475168010</td>\n",
              "      <td>M 1.4 - 9km NE of Aguanga, CA</td>\n",
              "      <td>0</td>\n",
              "      <td>USGS API</td>\n",
              "      <td>False</td>\n",
              "      <td>California</td>\n",
              "    </tr>\n",
              "    <tr>\n",
              "      <th>3</th>\n",
              "      <td>NaN</td>\n",
              "      <td>1.29</td>\n",
              "      <td>ml</td>\n",
              "      <td>9km NE of Aguanga, CA</td>\n",
              "      <td>1539475129610</td>\n",
              "      <td>M 1.3 - 9km NE of Aguanga, CA</td>\n",
              "      <td>0</td>\n",
              "      <td>USGS API</td>\n",
              "      <td>False</td>\n",
              "      <td>California</td>\n",
              "    </tr>\n",
              "  </tbody>\n",
              "</table>\n",
              "</div>"
            ],
            "text/plain": [
              "   alert   mag magType                                            place  \\\n",
              "0    NaN  5.00     mww  165km NNW of Flying Fish Cove, Christmas Island   \n",
              "1  green  6.70     mww                  262km NW of Ozernovskiy, Russia   \n",
              "2    NaN  1.35      ml                            9km NE of Aguanga, CA   \n",
              "3    NaN  1.29      ml                            9km NE of Aguanga, CA   \n",
              "\n",
              "            time                                              title  tsunami  \\\n",
              "0  1539459504090  M 5.0 - 165km NNW of Flying Fish Cove, Christm...        1   \n",
              "1  1539429023560            M 6.7 - 262km NW of Ozernovskiy, Russia        1   \n",
              "2  1539475168010                      M 1.4 - 9km NE of Aguanga, CA        0   \n",
              "3  1539475129610                      M 1.3 - 9km NE of Aguanga, CA        0   \n",
              "\n",
              "     source  mag_negative      parsed_place  \n",
              "0  USGS API         False  Christmas Island  \n",
              "1  USGS API         False            Russia  \n",
              "2  USGS API         False        California  \n",
              "3  USGS API         False        California  "
            ]
          },
          "execution_count": 15,
          "metadata": {},
          "output_type": "execute_result"
        }
      ],
      "source": [
        "pd.concat(\n",
        "    [tsunami.head(2), no_tsunami.head(2).assign(type='earthquake')], join='inner', ignore_index=True\n",
        ")"
      ]
    },
    {
      "cell_type": "markdown",
      "metadata": {
        "id": "uI0bB4YlEA7Q"
      },
      "source": [
        "## Deleting Unwanted Data\n",
        "Columns can be deleted using dictionary syntax with `del`:"
      ]
    },
    {
      "cell_type": "code",
      "execution_count": null,
      "metadata": {
        "id": "vLU9_bN6EA7R",
        "outputId": "e26192d6-3821-45d6-8964-5f47c137e134"
      },
      "outputs": [
        {
          "data": {
            "text/plain": [
              "Index(['alert', 'mag', 'magType', 'place', 'time', 'title', 'tsunami',\n",
              "       'mag_negative', 'parsed_place'],\n",
              "      dtype='object')"
            ]
          },
          "execution_count": 16,
          "metadata": {},
          "output_type": "execute_result"
        }
      ],
      "source": [
        "del df['source']\n",
        "df.columns"
      ]
    },
    {
      "cell_type": "markdown",
      "metadata": {
        "id": "TRUN8cFUEA7R"
      },
      "source": [
        "If we don't know whether the column exists, we should use a `try`/`except` block:"
      ]
    },
    {
      "cell_type": "code",
      "execution_count": null,
      "metadata": {
        "id": "gNZbN3nCEA7S",
        "outputId": "50116d37-f9e3-4f49-eb59-a3c31754f1e4"
      },
      "outputs": [
        {
          "name": "stdout",
          "output_type": "stream",
          "text": [
            "not there anymore\n"
          ]
        }
      ],
      "source": [
        "try:\n",
        "    del df['source']\n",
        "except KeyError:\n",
        "    # handle the error here\n",
        "    print('not there anymore')"
      ]
    },
    {
      "cell_type": "markdown",
      "metadata": {
        "id": "C2NriawmEA7S"
      },
      "source": [
        "We can also use `pop()`. This will allow us to use the series we remove later. Note there will be an error if the key doesn't exist, so we can also use a `try`/`except` here:"
      ]
    },
    {
      "cell_type": "code",
      "execution_count": null,
      "metadata": {
        "id": "EdB2ayVQEA7T",
        "outputId": "0d7e8f59-e022-480a-c6bc-e7c51e2fd7f7"
      },
      "outputs": [
        {
          "data": {
            "text/plain": [
              "Index(['alert', 'mag', 'magType', 'place', 'time', 'title', 'tsunami',\n",
              "       'parsed_place'],\n",
              "      dtype='object')"
            ]
          },
          "execution_count": 18,
          "metadata": {},
          "output_type": "execute_result"
        }
      ],
      "source": [
        "mag_negative = df.pop('mag_negative')\n",
        "df.columns"
      ]
    },
    {
      "cell_type": "markdown",
      "metadata": {
        "id": "HYXRO8BNEA7T"
      },
      "source": [
        "Notice we have a mask in `mag_negative` now:"
      ]
    },
    {
      "cell_type": "code",
      "execution_count": null,
      "metadata": {
        "id": "gL5Yk_0wEA7U",
        "outputId": "f6dc85fa-a180-4137-f726-8c1718f77aa6"
      },
      "outputs": [
        {
          "data": {
            "text/plain": [
              "False    8841\n",
              "True      491\n",
              "Name: mag_negative, dtype: int64"
            ]
          },
          "execution_count": 19,
          "metadata": {},
          "output_type": "execute_result"
        }
      ],
      "source": [
        "mag_negative.value_counts()"
      ]
    },
    {
      "cell_type": "markdown",
      "metadata": {
        "id": "bLh-tj75EA7U"
      },
      "source": [
        "Now, we can use `mag_negative` to filter our data:"
      ]
    },
    {
      "cell_type": "code",
      "execution_count": null,
      "metadata": {
        "id": "OUWkbYdREA7d",
        "outputId": "20a88d60-c74d-46d8-908a-8da5e5285e4d"
      },
      "outputs": [
        {
          "data": {
            "text/html": [
              "<div>\n",
              "<style scoped>\n",
              "    .dataframe tbody tr th:only-of-type {\n",
              "        vertical-align: middle;\n",
              "    }\n",
              "\n",
              "    .dataframe tbody tr th {\n",
              "        vertical-align: top;\n",
              "    }\n",
              "\n",
              "    .dataframe thead th {\n",
              "        text-align: right;\n",
              "    }\n",
              "</style>\n",
              "<table border=\"1\" class=\"dataframe\">\n",
              "  <thead>\n",
              "    <tr style=\"text-align: right;\">\n",
              "      <th></th>\n",
              "      <th>alert</th>\n",
              "      <th>mag</th>\n",
              "      <th>magType</th>\n",
              "      <th>place</th>\n",
              "      <th>time</th>\n",
              "      <th>title</th>\n",
              "      <th>tsunami</th>\n",
              "      <th>parsed_place</th>\n",
              "    </tr>\n",
              "  </thead>\n",
              "  <tbody>\n",
              "    <tr>\n",
              "      <th>39</th>\n",
              "      <td>NaN</td>\n",
              "      <td>-0.10</td>\n",
              "      <td>ml</td>\n",
              "      <td>6km NW of Lemmon Valley, Nevada</td>\n",
              "      <td>1539458844506</td>\n",
              "      <td>M -0.1 - 6km NW of Lemmon Valley, Nevada</td>\n",
              "      <td>0</td>\n",
              "      <td>Nevada</td>\n",
              "    </tr>\n",
              "    <tr>\n",
              "      <th>49</th>\n",
              "      <td>NaN</td>\n",
              "      <td>-0.10</td>\n",
              "      <td>ml</td>\n",
              "      <td>6km NW of Lemmon Valley, Nevada</td>\n",
              "      <td>1539455017464</td>\n",
              "      <td>M -0.1 - 6km NW of Lemmon Valley, Nevada</td>\n",
              "      <td>0</td>\n",
              "      <td>Nevada</td>\n",
              "    </tr>\n",
              "    <tr>\n",
              "      <th>135</th>\n",
              "      <td>NaN</td>\n",
              "      <td>-0.40</td>\n",
              "      <td>ml</td>\n",
              "      <td>10km SSE of Beatty, Nevada</td>\n",
              "      <td>1539422175717</td>\n",
              "      <td>M -0.4 - 10km SSE of Beatty, Nevada</td>\n",
              "      <td>0</td>\n",
              "      <td>Nevada</td>\n",
              "    </tr>\n",
              "    <tr>\n",
              "      <th>161</th>\n",
              "      <td>NaN</td>\n",
              "      <td>-0.02</td>\n",
              "      <td>md</td>\n",
              "      <td>20km SSE of Ronan, Montana</td>\n",
              "      <td>1539412475360</td>\n",
              "      <td>M -0.0 - 20km SSE of Ronan, Montana</td>\n",
              "      <td>0</td>\n",
              "      <td>Montana</td>\n",
              "    </tr>\n",
              "    <tr>\n",
              "      <th>198</th>\n",
              "      <td>NaN</td>\n",
              "      <td>-0.20</td>\n",
              "      <td>ml</td>\n",
              "      <td>60km N of Pahrump, Nevada</td>\n",
              "      <td>1539398340822</td>\n",
              "      <td>M -0.2 - 60km N of Pahrump, Nevada</td>\n",
              "      <td>0</td>\n",
              "      <td>Nevada</td>\n",
              "    </tr>\n",
              "  </tbody>\n",
              "</table>\n",
              "</div>"
            ],
            "text/plain": [
              "    alert   mag magType                            place           time  \\\n",
              "39    NaN -0.10      ml  6km NW of Lemmon Valley, Nevada  1539458844506   \n",
              "49    NaN -0.10      ml  6km NW of Lemmon Valley, Nevada  1539455017464   \n",
              "135   NaN -0.40      ml       10km SSE of Beatty, Nevada  1539422175717   \n",
              "161   NaN -0.02      md       20km SSE of Ronan, Montana  1539412475360   \n",
              "198   NaN -0.20      ml        60km N of Pahrump, Nevada  1539398340822   \n",
              "\n",
              "                                        title  tsunami parsed_place  \n",
              "39   M -0.1 - 6km NW of Lemmon Valley, Nevada        0       Nevada  \n",
              "49   M -0.1 - 6km NW of Lemmon Valley, Nevada        0       Nevada  \n",
              "135       M -0.4 - 10km SSE of Beatty, Nevada        0       Nevada  \n",
              "161       M -0.0 - 20km SSE of Ronan, Montana        0      Montana  \n",
              "198        M -0.2 - 60km N of Pahrump, Nevada        0       Nevada  "
            ]
          },
          "execution_count": 20,
          "metadata": {},
          "output_type": "execute_result"
        }
      ],
      "source": [
        "df[mag_negative].head()"
      ]
    },
    {
      "cell_type": "markdown",
      "metadata": {
        "id": "LZ1lID2PEA7d"
      },
      "source": [
        "### Using the `drop()` method\n",
        "We can drop rows by passing a list of indices to the `drop()` method. Notice in the following example that when asking for the first 2 rows with `head()` we get the 3rd and 4th rows because we dropped the original first 2 with `drop([0, 1])`:"
      ]
    },
    {
      "cell_type": "code",
      "execution_count": null,
      "metadata": {
        "id": "bU6BzLZ7EA7e",
        "outputId": "abae16c5-5f70-4f9b-8c17-92d1b2bd463d"
      },
      "outputs": [
        {
          "data": {
            "text/html": [
              "<div>\n",
              "<style scoped>\n",
              "    .dataframe tbody tr th:only-of-type {\n",
              "        vertical-align: middle;\n",
              "    }\n",
              "\n",
              "    .dataframe tbody tr th {\n",
              "        vertical-align: top;\n",
              "    }\n",
              "\n",
              "    .dataframe thead th {\n",
              "        text-align: right;\n",
              "    }\n",
              "</style>\n",
              "<table border=\"1\" class=\"dataframe\">\n",
              "  <thead>\n",
              "    <tr style=\"text-align: right;\">\n",
              "      <th></th>\n",
              "      <th>alert</th>\n",
              "      <th>mag</th>\n",
              "      <th>magType</th>\n",
              "      <th>place</th>\n",
              "      <th>time</th>\n",
              "      <th>title</th>\n",
              "      <th>tsunami</th>\n",
              "      <th>parsed_place</th>\n",
              "    </tr>\n",
              "  </thead>\n",
              "  <tbody>\n",
              "    <tr>\n",
              "      <th>2</th>\n",
              "      <td>NaN</td>\n",
              "      <td>3.42</td>\n",
              "      <td>ml</td>\n",
              "      <td>8km NE of Aguanga, CA</td>\n",
              "      <td>1539475062610</td>\n",
              "      <td>M 3.4 - 8km NE of Aguanga, CA</td>\n",
              "      <td>0</td>\n",
              "      <td>California</td>\n",
              "    </tr>\n",
              "    <tr>\n",
              "      <th>3</th>\n",
              "      <td>NaN</td>\n",
              "      <td>0.44</td>\n",
              "      <td>ml</td>\n",
              "      <td>9km NE of Aguanga, CA</td>\n",
              "      <td>1539474978070</td>\n",
              "      <td>M 0.4 - 9km NE of Aguanga, CA</td>\n",
              "      <td>0</td>\n",
              "      <td>California</td>\n",
              "    </tr>\n",
              "  </tbody>\n",
              "</table>\n",
              "</div>"
            ],
            "text/plain": [
              "  alert   mag magType                  place           time  \\\n",
              "2   NaN  3.42      ml  8km NE of Aguanga, CA  1539475062610   \n",
              "3   NaN  0.44      ml  9km NE of Aguanga, CA  1539474978070   \n",
              "\n",
              "                           title  tsunami parsed_place  \n",
              "2  M 3.4 - 8km NE of Aguanga, CA        0   California  \n",
              "3  M 0.4 - 9km NE of Aguanga, CA        0   California  "
            ]
          },
          "execution_count": 21,
          "metadata": {},
          "output_type": "execute_result"
        }
      ],
      "source": [
        "df.drop([0, 1]).head(2)"
      ]
    },
    {
      "cell_type": "markdown",
      "metadata": {
        "id": "UkrHxE-oEA7e"
      },
      "source": [
        "The `drop()` method drops along the row axis by default. If we pass in a list of columns with the `columns` argument, we can delete columns:"
      ]
    },
    {
      "cell_type": "code",
      "execution_count": null,
      "metadata": {
        "id": "CLgjUywzEA7e",
        "outputId": "bf05794a-2a70-461e-c61a-85e9cd1fca2f"
      },
      "outputs": [
        {
          "data": {
            "text/html": [
              "<div>\n",
              "<style scoped>\n",
              "    .dataframe tbody tr th:only-of-type {\n",
              "        vertical-align: middle;\n",
              "    }\n",
              "\n",
              "    .dataframe tbody tr th {\n",
              "        vertical-align: top;\n",
              "    }\n",
              "\n",
              "    .dataframe thead th {\n",
              "        text-align: right;\n",
              "    }\n",
              "</style>\n",
              "<table border=\"1\" class=\"dataframe\">\n",
              "  <thead>\n",
              "    <tr style=\"text-align: right;\">\n",
              "      <th></th>\n",
              "      <th>alert</th>\n",
              "      <th>mag</th>\n",
              "      <th>time</th>\n",
              "      <th>title</th>\n",
              "      <th>tsunami</th>\n",
              "    </tr>\n",
              "  </thead>\n",
              "  <tbody>\n",
              "    <tr>\n",
              "      <th>0</th>\n",
              "      <td>NaN</td>\n",
              "      <td>1.35</td>\n",
              "      <td>1539475168010</td>\n",
              "      <td>M 1.4 - 9km NE of Aguanga, CA</td>\n",
              "      <td>0</td>\n",
              "    </tr>\n",
              "    <tr>\n",
              "      <th>1</th>\n",
              "      <td>NaN</td>\n",
              "      <td>1.29</td>\n",
              "      <td>1539475129610</td>\n",
              "      <td>M 1.3 - 9km NE of Aguanga, CA</td>\n",
              "      <td>0</td>\n",
              "    </tr>\n",
              "    <tr>\n",
              "      <th>2</th>\n",
              "      <td>NaN</td>\n",
              "      <td>3.42</td>\n",
              "      <td>1539475062610</td>\n",
              "      <td>M 3.4 - 8km NE of Aguanga, CA</td>\n",
              "      <td>0</td>\n",
              "    </tr>\n",
              "    <tr>\n",
              "      <th>3</th>\n",
              "      <td>NaN</td>\n",
              "      <td>0.44</td>\n",
              "      <td>1539474978070</td>\n",
              "      <td>M 0.4 - 9km NE of Aguanga, CA</td>\n",
              "      <td>0</td>\n",
              "    </tr>\n",
              "    <tr>\n",
              "      <th>4</th>\n",
              "      <td>NaN</td>\n",
              "      <td>2.16</td>\n",
              "      <td>1539474716050</td>\n",
              "      <td>M 2.2 - 10km NW of Avenal, CA</td>\n",
              "      <td>0</td>\n",
              "    </tr>\n",
              "  </tbody>\n",
              "</table>\n",
              "</div>"
            ],
            "text/plain": [
              "  alert   mag           time                          title  tsunami\n",
              "0   NaN  1.35  1539475168010  M 1.4 - 9km NE of Aguanga, CA        0\n",
              "1   NaN  1.29  1539475129610  M 1.3 - 9km NE of Aguanga, CA        0\n",
              "2   NaN  3.42  1539475062610  M 3.4 - 8km NE of Aguanga, CA        0\n",
              "3   NaN  0.44  1539474978070  M 0.4 - 9km NE of Aguanga, CA        0\n",
              "4   NaN  2.16  1539474716050  M 2.2 - 10km NW of Avenal, CA        0"
            ]
          },
          "execution_count": 22,
          "metadata": {},
          "output_type": "execute_result"
        }
      ],
      "source": [
        "cols_to_drop = [\n",
        "    col for col in df.columns\n",
        "    if col not in ['alert', 'mag', 'title', 'time', 'tsunami']\n",
        "]\n",
        "df.drop(columns=cols_to_drop).head()"
      ]
    },
    {
      "cell_type": "markdown",
      "metadata": {
        "id": "7LH5ktsHEA7e"
      },
      "source": [
        "We also have the option of using `axis=1`:"
      ]
    },
    {
      "cell_type": "code",
      "execution_count": null,
      "metadata": {
        "id": "cLw5z9C-EA7f",
        "outputId": "a7bb2237-9a6d-4d46-edfb-fe2dd82229a1"
      },
      "outputs": [
        {
          "data": {
            "text/plain": [
              "True"
            ]
          },
          "execution_count": 23,
          "metadata": {},
          "output_type": "execute_result"
        }
      ],
      "source": [
        "df.drop(columns=cols_to_drop).equals(\n",
        "    df.drop(cols_to_drop, axis=1)\n",
        ")"
      ]
    },
    {
      "cell_type": "markdown",
      "metadata": {
        "id": "B6snn2_jEA7f"
      },
      "source": [
        "By default, `drop()`, along with the majority of `DataFrame` methods, will return a new `DataFrame` object. If we just want to change the one we are working with, we can pass `inplace=True`. This should be used with care:"
      ]
    },
    {
      "cell_type": "code",
      "execution_count": null,
      "metadata": {
        "id": "MRm3e5FsEA7f",
        "outputId": "479816fd-205c-43e9-8783-01f2892ee8c3"
      },
      "outputs": [
        {
          "data": {
            "text/html": [
              "<div>\n",
              "<style scoped>\n",
              "    .dataframe tbody tr th:only-of-type {\n",
              "        vertical-align: middle;\n",
              "    }\n",
              "\n",
              "    .dataframe tbody tr th {\n",
              "        vertical-align: top;\n",
              "    }\n",
              "\n",
              "    .dataframe thead th {\n",
              "        text-align: right;\n",
              "    }\n",
              "</style>\n",
              "<table border=\"1\" class=\"dataframe\">\n",
              "  <thead>\n",
              "    <tr style=\"text-align: right;\">\n",
              "      <th></th>\n",
              "      <th>alert</th>\n",
              "      <th>mag</th>\n",
              "      <th>time</th>\n",
              "      <th>title</th>\n",
              "      <th>tsunami</th>\n",
              "    </tr>\n",
              "  </thead>\n",
              "  <tbody>\n",
              "    <tr>\n",
              "      <th>0</th>\n",
              "      <td>NaN</td>\n",
              "      <td>1.35</td>\n",
              "      <td>1539475168010</td>\n",
              "      <td>M 1.4 - 9km NE of Aguanga, CA</td>\n",
              "      <td>0</td>\n",
              "    </tr>\n",
              "    <tr>\n",
              "      <th>1</th>\n",
              "      <td>NaN</td>\n",
              "      <td>1.29</td>\n",
              "      <td>1539475129610</td>\n",
              "      <td>M 1.3 - 9km NE of Aguanga, CA</td>\n",
              "      <td>0</td>\n",
              "    </tr>\n",
              "    <tr>\n",
              "      <th>2</th>\n",
              "      <td>NaN</td>\n",
              "      <td>3.42</td>\n",
              "      <td>1539475062610</td>\n",
              "      <td>M 3.4 - 8km NE of Aguanga, CA</td>\n",
              "      <td>0</td>\n",
              "    </tr>\n",
              "    <tr>\n",
              "      <th>3</th>\n",
              "      <td>NaN</td>\n",
              "      <td>0.44</td>\n",
              "      <td>1539474978070</td>\n",
              "      <td>M 0.4 - 9km NE of Aguanga, CA</td>\n",
              "      <td>0</td>\n",
              "    </tr>\n",
              "    <tr>\n",
              "      <th>4</th>\n",
              "      <td>NaN</td>\n",
              "      <td>2.16</td>\n",
              "      <td>1539474716050</td>\n",
              "      <td>M 2.2 - 10km NW of Avenal, CA</td>\n",
              "      <td>0</td>\n",
              "    </tr>\n",
              "  </tbody>\n",
              "</table>\n",
              "</div>"
            ],
            "text/plain": [
              "  alert   mag           time                          title  tsunami\n",
              "0   NaN  1.35  1539475168010  M 1.4 - 9km NE of Aguanga, CA        0\n",
              "1   NaN  1.29  1539475129610  M 1.3 - 9km NE of Aguanga, CA        0\n",
              "2   NaN  3.42  1539475062610  M 3.4 - 8km NE of Aguanga, CA        0\n",
              "3   NaN  0.44  1539474978070  M 0.4 - 9km NE of Aguanga, CA        0\n",
              "4   NaN  2.16  1539474716050  M 2.2 - 10km NW of Avenal, CA        0"
            ]
          },
          "execution_count": 24,
          "metadata": {},
          "output_type": "execute_result"
        }
      ],
      "source": [
        "df.drop(columns=cols_to_drop, inplace=True)\n",
        "df.head()"
      ]
    },
    {
      "cell_type": "markdown",
      "metadata": {
        "id": "fsr2l5GCEA7f"
      },
      "source": [
        "<hr>\n",
        "\n",
        "<div style=\"overflow: hidden; margin-bottom: 10px;\">\n",
        "    <div style=\"float: left;\">\n",
        "        <a href=\"./5-subsetting_data.ipynb\">\n",
        "            <button>&#8592; Previous Notebook</button>\n",
        "        </a>\n",
        "    </div>\n",
        "    <div style=\"float: right;\">\n",
        "        <a href=\"../../solutions/ch_02/solutions.ipynb\">\n",
        "            <button>Solutions</button>\n",
        "        </a>\n",
        "        <a href=\"../ch_03/1-wide_vs_long.ipynb\">\n",
        "            <button>Chapter 3 &#8594;</button>\n",
        "        </a>\n",
        "    </div>\n",
        "</div>\n",
        "<hr>"
      ]
    }
  ],
  "metadata": {
    "kernelspec": {
      "display_name": "Python 3",
      "language": "python",
      "name": "python3"
    },
    "language_info": {
      "codemirror_mode": {
        "name": "ipython",
        "version": 3
      },
      "file_extension": ".py",
      "mimetype": "text/x-python",
      "name": "python",
      "nbconvert_exporter": "python",
      "pygments_lexer": "ipython3",
      "version": "3.7.3"
    },
    "colab": {
      "provenance": [],
      "include_colab_link": true
    }
  },
  "nbformat": 4,
  "nbformat_minor": 0
}